{
  "nbformat": 4,
  "nbformat_minor": 0,
  "metadata": {
    "colab": {
      "provenance": [],
      "authorship_tag": "ABX9TyNzBVlyzVW7uvHmpmqXIy4p",
      "include_colab_link": true
    },
    "kernelspec": {
      "name": "python3",
      "display_name": "Python 3"
    },
    "language_info": {
      "name": "python"
    }
  },
  "cells": [
    {
      "cell_type": "markdown",
      "metadata": {
        "id": "view-in-github",
        "colab_type": "text"
      },
      "source": [
        "<a href=\"https://colab.research.google.com/github/Vikaskr06/Desing_of_Data_Structures/blob/main/Labs/Lab4.ipynb\" target=\"_parent\"><img src=\"https://colab.research.google.com/assets/colab-badge.svg\" alt=\"Open In Colab\"/></a>"
      ]
    },
    {
      "cell_type": "markdown",
      "source": [
        " # **LAB- 4:-  Towers of Hanoi using Stack**\n"
      ],
      "metadata": {
        "id": "-2VthHJxaMAK"
      }
    },
    {
      "cell_type": "markdown",
      "source": [
        "**🎯Objective:**\n",
        "\n",
        "* Implement Towers of Hanoi using Stack."
      ],
      "metadata": {
        "id": "3ZbpVIQna2NA"
      }
    },
    {
      "cell_type": "markdown",
      "source": [
        "**Concept:**\n",
        "\n",
        "Towers of Hanoi is a classic recursive problem. Here, we solve it iteratively using three stacks to simulate three pegs.\n",
        "\n",
        "🧠 Logic:\n",
        "* You have n disks initially on Peg A (source).\n",
        "\n",
        "* Goal: Move all disks to Peg C (destination), using Peg B (auxiliary).\n",
        "\n",
        "Rules:\n",
        "\n",
        "1. Only one disk can be moved at a time.\n",
        "\n",
        "2. A bigger disk can't be placed on a smaller disk."
      ],
      "metadata": {
        "id": "W6UTj7qibo7V"
      }
    },
    {
      "cell_type": "markdown",
      "source": [
        "**Towers of Hanoi using Stack in C++**"
      ],
      "metadata": {
        "id": "W7ZW6cAWc3PS"
      }
    },
    {
      "cell_type": "code",
      "source": [
        "\n",
        "%%writefile program.cpp\n",
        "#include <iostream>\n",
        "#include <stack>\n",
        "#include <climits>\n",
        "using namespace std;\n",
        "\n",
        "void moveDisk(stack<int> &src, stack<int> &dest, char s, char d) {\n",
        "    int pole1Top = src.empty() ? INT_MIN : src.top();\n",
        "    int pole2Top = dest.empty() ? INT_MIN : dest.top();\n",
        "\n",
        "    // Move disk logic based on top disk comparisons\n",
        "    if (src.empty()) {\n",
        "        src.push(dest.top());\n",
        "        dest.pop();\n",
        "        cout << \"Move disk \" << src.top() << \" from \" << d << \" to \" << s << endl;\n",
        "    } else if (dest.empty()) {\n",
        "        dest.push(src.top());\n",
        "        src.pop();\n",
        "        cout << \"Move disk \" << dest.top() << \" from \" << s << \" to \" << d << endl;\n",
        "    } else if (pole1Top > pole2Top) {\n",
        "        src.push(dest.top());\n",
        "        dest.pop();\n",
        "        cout << \"Move disk \" << src.top() << \" from \" << d << \" to \" << s << endl;\n",
        "    } else {\n",
        "        dest.push(src.top());\n",
        "        src.pop();\n",
        "        cout << \"Move disk \" << dest.top() << \" from \" << s << \" to \" << d << endl;\n",
        "    }\n",
        "}\n",
        "\n",
        "void towersOfHanoi(int n) {\n",
        "    stack<int> src, aux, dest;\n",
        "    char s = 'A', a = 'B', d = 'C';\n",
        "\n",
        "    int totalMoves = (1 << n) - 1; // 2^n - 1\n",
        "\n",
        "    // Initialize source stack\n",
        "    for (int i = n; i >= 1; i--)\n",
        "        src.push(i);\n",
        "\n",
        "    // Swap auxiliary and destination if number of disks is even\n",
        "    if (n % 2 == 0)\n",
        "        swap(a, d);\n",
        "\n",
        "    // Perform moves\n",
        "    for (int i = 1; i <= totalMoves; i++) {\n",
        "        if (i % 3 == 1)\n",
        "            moveDisk(src, dest, s, d);\n",
        "        else if (i % 3 == 2)\n",
        "            moveDisk(src, aux, s, a);\n",
        "        else\n",
        "            moveDisk(aux, dest, a, d);\n",
        "    }\n",
        "}\n",
        "\n",
        "int main() {\n",
        "    int n;\n",
        "    cout << \"Enter number of disks: \";\n",
        "    cin >> n;\n",
        "    towersOfHanoi(n);\n",
        "    return 0;\n",
        "}\n"
      ],
      "metadata": {
        "colab": {
          "base_uri": "https://localhost:8080/"
        },
        "id": "ar19MESQcHDe",
        "outputId": "c1f8ff69-c686-47dd-94c7-c8ed570f6edd"
      },
      "execution_count": 24,
      "outputs": [
        {
          "output_type": "stream",
          "name": "stdout",
          "text": [
            "Overwriting program.cpp\n"
          ]
        }
      ]
    },
    {
      "cell_type": "code",
      "source": [
        "!g++ program.cpp -o program\n"
      ],
      "metadata": {
        "id": "sXIkjrlXiR4v"
      },
      "execution_count": 25,
      "outputs": []
    },
    {
      "cell_type": "code",
      "source": [
        "!./program\n"
      ],
      "metadata": {
        "colab": {
          "base_uri": "https://localhost:8080/"
        },
        "id": "N-ux9jkqiTMZ",
        "outputId": "b8cddbce-4bdf-446a-ed9a-0aa1705a0914"
      },
      "execution_count": 26,
      "outputs": [
        {
          "output_type": "stream",
          "name": "stdout",
          "text": [
            "Enter number of disks: 3\n",
            "Move disk 1 from A to C\n",
            "Move disk 2 from A to B\n",
            "Move disk 1 from C to B\n",
            "Move disk 3 from A to C\n",
            "Move disk 1 from B to A\n",
            "Move disk 2 from B to C\n",
            "Move disk 1 from A to C\n"
          ]
        }
      ]
    },
    {
      "cell_type": "markdown",
      "source": [
        "**Towers of Hanoi using Stack in C**"
      ],
      "metadata": {
        "id": "rYBse_0wcler"
      }
    },
    {
      "cell_type": "code",
      "source": [
        "c_code = \"\"\"\n",
        "#include <stdio.h>\n",
        "#include <limits.h>\n",
        "\n",
        "#define MAX 64\n",
        "\n",
        "typedef struct {\n",
        "    int items[MAX];\n",
        "    int top;\n",
        "} Stack;\n",
        "\n",
        "// Initialize stack\n",
        "void init(Stack *s) {\n",
        "    s->top = -1;\n",
        "}\n",
        "\n",
        "// Check if stack is empty\n",
        "int isEmpty(Stack *s) {\n",
        "    return s->top == -1;\n",
        "}\n",
        "\n",
        "// Push to stack\n",
        "void push(Stack *s, int val) {\n",
        "    if (s->top < MAX - 1) {\n",
        "        s->items[++(s->top)] = val;\n",
        "    }\n",
        "}\n",
        "\n",
        "// Pop from stack\n",
        "int pop(Stack *s) {\n",
        "    if (!isEmpty(s)) {\n",
        "        return s->items[(s->top)--];\n",
        "    }\n",
        "    return INT_MIN;\n",
        "}\n",
        "\n",
        "// Peek top value\n",
        "int peek(Stack *s) {\n",
        "    if (!isEmpty(s)) {\n",
        "        return s->items[s->top];\n",
        "    }\n",
        "    return INT_MIN;\n",
        "}\n",
        "\n",
        "// Move disk between two pegs\n",
        "void moveDisk(Stack *src, Stack *dest, char s, char d) {\n",
        "    int top1 = peek(src);\n",
        "    int top2 = peek(dest);\n",
        "\n",
        "    if (isEmpty(src)) {\n",
        "        push(src, pop(dest));\n",
        "        printf(\"Move disk %d from %c to %c\\\\n\", peek(src), d, s);\n",
        "    } else if (isEmpty(dest)) {\n",
        "        push(dest, pop(src));\n",
        "        printf(\"Move disk %d from %c to %c\\\\n\", peek(dest), s, d);\n",
        "    } else if (top1 > top2) {\n",
        "        push(src, pop(dest));\n",
        "        printf(\"Move disk %d from %c to %c\\\\n\", peek(src), d, s);\n",
        "    } else {\n",
        "        push(dest, pop(src));\n",
        "        printf(\"Move disk %d from %c to %c\\\\n\", peek(dest), s, d);\n",
        "    }\n",
        "}\n",
        "\n",
        "// Hanoi driver function\n",
        "void towersOfHanoi(int n) {\n",
        "    Stack src, aux, dest;\n",
        "    init(&src); init(&aux); init(&dest);\n",
        "\n",
        "    char s = 'A', a = 'B', d = 'C';\n",
        "\n",
        "    int totalMoves = (1 << n) - 1; // 2^n - 1\n",
        "\n",
        "    for (int i = n; i >= 1; i--) {\n",
        "        push(&src, i);\n",
        "    }\n",
        "\n",
        "    // Swap aux and dest if number of disks is even\n",
        "    if (n % 2 == 0) {\n",
        "        char temp = d;\n",
        "        d = a;\n",
        "        a = temp;\n",
        "    }\n",
        "\n",
        "    for (int i = 1; i <= totalMoves; i++) {\n",
        "        if (i % 3 == 1)\n",
        "            moveDisk(&src, &dest, s, d);\n",
        "        else if (i % 3 == 2)\n",
        "            moveDisk(&src, &aux, s, a);\n",
        "        else\n",
        "            moveDisk(&aux, &dest, a, d);\n",
        "    }\n",
        "}\n",
        "\n",
        "int main() {\n",
        "    int n;\n",
        "    printf(\"Enter number of disks: \");\n",
        "    scanf(\"%d\", &n);\n",
        "    towersOfHanoi(n);\n",
        "    return 0;\n",
        "}\n",
        "\n",
        "\"\"\"\n",
        "\n",
        "with open(\"lab4.c\", \"w\") as f:\n",
        "    f.write(c_code)"
      ],
      "metadata": {
        "id": "2SHPVlducsTd"
      },
      "execution_count": 17,
      "outputs": []
    },
    {
      "cell_type": "code",
      "source": [
        "# Compile the C program\n",
        "!gcc lab4.c -o lab4"
      ],
      "metadata": {
        "id": "peml3SpSzZBB"
      },
      "execution_count": 18,
      "outputs": []
    },
    {
      "cell_type": "code",
      "source": [
        "# Run the compiled C executable\n",
        "!./lab4"
      ],
      "metadata": {
        "id": "zEWLJ5g3zcpB",
        "colab": {
          "base_uri": "https://localhost:8080/"
        },
        "outputId": "95dd90b8-ab87-420c-d825-4c2cd99e5138"
      },
      "execution_count": 19,
      "outputs": [
        {
          "output_type": "stream",
          "name": "stdout",
          "text": [
            "Enter number of disks: 5\n",
            "Move disk 1 from A to C\n",
            "Move disk 2 from A to B\n",
            "Move disk 1 from C to B\n",
            "Move disk 3 from A to C\n",
            "Move disk 1 from B to A\n",
            "Move disk 2 from B to C\n",
            "Move disk 1 from A to C\n",
            "Move disk 4 from A to B\n",
            "Move disk 1 from C to B\n",
            "Move disk 2 from C to A\n",
            "Move disk 1 from B to A\n",
            "Move disk 3 from C to B\n",
            "Move disk 1 from A to C\n",
            "Move disk 2 from A to B\n",
            "Move disk 1 from C to B\n",
            "Move disk 5 from A to C\n",
            "Move disk 1 from B to A\n",
            "Move disk 2 from B to C\n",
            "Move disk 1 from A to C\n",
            "Move disk 3 from B to A\n",
            "Move disk 1 from C to B\n",
            "Move disk 2 from C to A\n",
            "Move disk 1 from B to A\n",
            "Move disk 4 from B to C\n",
            "Move disk 1 from A to C\n",
            "Move disk 2 from A to B\n",
            "Move disk 1 from C to B\n",
            "Move disk 3 from A to C\n",
            "Move disk 1 from B to A\n",
            "Move disk 2 from B to C\n",
            "Move disk 1 from A to C\n"
          ]
        }
      ]
    }
  ]
}