{
  "cells": [
    {
      "cell_type": "markdown",
      "metadata": {
        "id": "view-in-github",
        "colab_type": "text"
      },
      "source": [
        "<a href=\"https://colab.research.google.com/github/gulshan-st/Desing_of_Data_Structures/blob/main/Module1/Lesson3.ipynb\" target=\"_parent\"><img src=\"https://colab.research.google.com/assets/colab-badge.svg\" alt=\"Open In Colab\"/></a>"
      ]
    },
    {
      "cell_type": "code",
      "source": [],
      "metadata": {
        "id": "JSUmBMNgs8-w"
      },
      "execution_count": null,
      "outputs": []
    },
    {
      "cell_type": "markdown",
      "source": [
        "\n",
        "________________________________________\n",
        "Lesson 1: Course Introduction & Importance of Data Structures\n",
        "🔹 What is a Data Structure?\n",
        "A data structure is a way to store and organize data in a computer so that it can be used efficiently.\n",
        "🔹 Why are Data Structures Important?\n",
        "•\tThey help in efficient storage and retrieval of data.\n",
        "•\tThey make our programs faster and easier to understand.\n",
        "•\tThey are used in real-life applications like databases, operating systems, games, and more.\n",
        "📌 Examples in Real Life:\n",
        "•\tA list of names stored in a mobile contact app (can be stored in an array or linked list).\n",
        "•\tA stack of plates (LIFO – Last In First Out).\n",
        "•\tA queue at a ticket counter (FIFO – First In First Out).\n",
        "________________________________________\n",
        "Lesson 2: Primitive & Non-Primitive Data Structures, Operations\n",
        "🔹 Primitive Data Structures:\n",
        "These are the basic building blocks provided by most programming languages.\n",
        "•\tInteger (int)\n",
        "•\tFloat (float)\n",
        "•\tCharacter (char)\n",
        "•\tBoolean (true/false)\n",
        "📌 Example in C:\n",
        "int age = 25;\n",
        "float height = 5.9;\n",
        "char grade = 'A';\n",
        "🔹 Non-Primitive Data Structures:\n",
        "These are more complex and are built using primitive data types.\n",
        "•\tArrays\n",
        "•\tStructures\n",
        "•\tUnions\n",
        "•\tLinked Lists\n",
        "•\tStacks\n",
        "•\tQueues\n",
        "•\tTrees, etc.\n",
        "🔹 Basic Operations on Data Structures:\n",
        "•\tInsertion – Add new data\n",
        "•\tDeletion – Remove data\n",
        "•\tTraversal – Go through elements\n",
        "•\tSearching – Find data\n",
        "•\tSorting – Arrange data in order\n",
        "________________________________________\n",
        "Lesson 3: Arrays, Structures, Unions, Self-Referential Structures\n",
        "🔹 Arrays:\n",
        "An array is a collection of similar data items stored in a continuous memory location.\n",
        "📌 Example in C:\n",
        "int numbers[5] = {10, 20, 30, 40, 50};\n",
        "•\tnumbers[0] is 10, numbers[1] is 20, and so on.\n",
        "•\tUseful when you want to store multiple values of the same type.\n",
        "🔹 Structures:\n",
        "A structure (struct) is used to store a group of items of different types under one name.\n",
        "📌 Example in C:\n",
        "struct Student {\n",
        "    int roll;\n",
        "    char name[50];\n",
        "    float marks;\n",
        "};\n",
        "•\tNow you can create a student like this:\n",
        "struct Student s1 = {1, \"John\", 89.5};\n",
        "🔹 Unions:\n",
        "A union is similar to a structure but uses the same memory location for all its members. Only one member can hold a value at a time.\n",
        "📌 Example in C:\n",
        "union Data {\n",
        "    int i;\n",
        "    float f;\n",
        "    char str[20];\n",
        "};\n",
        "🔹 Self-Referential Structures:\n",
        "A structure that contains a pointer to a structure of the same type.\n",
        "📌 Example in C (used in linked lists):\n",
        "struct Node {\n",
        "    int data;\n",
        "    struct Node* next;\n",
        "};\n",
        "This is the base of linked lists where each node points to the next node.\n",
        "________________________________________\n",
        "\n"
      ],
      "metadata": {
        "id": "HmJWmKGZs9u3"
      }
    }
  ],
  "metadata": {
    "colab": {
      "name": "Welcome To Colab",
      "toc_visible": true,
      "provenance": [],
      "include_colab_link": true
    },
    "kernelspec": {
      "display_name": "Python 3",
      "name": "python3"
    }
  },
  "nbformat": 4,
  "nbformat_minor": 0
}