{
  "nbformat": 4,
  "nbformat_minor": 0,
  "metadata": {
    "colab": {
      "provenance": [],
      "authorship_tag": "ABX9TyNSiTR9swQ55exCxrBGjWMF",
      "include_colab_link": true
    },
    "kernelspec": {
      "name": "python3",
      "display_name": "Python 3"
    },
    "language_info": {
      "name": "python"
    }
  },
  "cells": [
    {
      "cell_type": "markdown",
      "metadata": {
        "id": "view-in-github",
        "colab_type": "text"
      },
      "source": [
        "<a href=\"https://colab.research.google.com/github/shubhamkumar123456/Desing_of_Data_Structures/blob/main/Module2/Lesson11.ipynb\" target=\"_parent\"><img src=\"https://colab.research.google.com/assets/colab-badge.svg\" alt=\"Open In Colab\"/></a>"
      ]
    },
    {
      "cell_type": "markdown",
      "source": [],
      "metadata": {
        "id": "zujVqCiziTAA"
      }
    },
    {
      "cell_type": "markdown",
      "source": [
        "Lesson 11: Recursion: Factorial, GCD, FIbonnaci"
      ],
      "metadata": {
        "id": "GAsElQGciUvd"
      }
    }
  ]
}