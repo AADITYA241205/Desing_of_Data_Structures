{
  "nbformat": 4,
  "nbformat_minor": 0,
  "metadata": {
    "colab": {
      "provenance": [],
      "authorship_tag": "ABX9TyNlJifmfrNVy0d3ctrj9kCf",
      "include_colab_link": true
    },
    "kernelspec": {
      "name": "python3",
      "display_name": "Python 3"
    },
    "language_info": {
      "name": "python"
    }
  },
  "cells": [
    {
      "cell_type": "markdown",
      "metadata": {
        "id": "view-in-github",
        "colab_type": "text"
      },
      "source": [
        "<a href=\"https://colab.research.google.com/github/shubhamkumar123456/Desing_of_Data_Structures/blob/main/Module2/Lesson11.ipynb\" target=\"_parent\"><img src=\"https://colab.research.google.com/assets/colab-badge.svg\" alt=\"Open In Colab\"/></a>"
      ]
    },
    {
      "cell_type": "markdown",
      "source": [],
      "metadata": {
        "id": "zujVqCiziTAA"
      }
    },
    {
      "cell_type": "markdown",
      "source": [
        "Lesson 11: Recursion: Factorial, GCD, FIbonnaci"
      ],
      "metadata": {
        "id": "GAsElQGciUvd"
      }
    },
    {
      "cell_type": "markdown",
      "source": [
        "**What is Recursion?**\n",
        "\n",
        "**Definition:**\n",
        "Recursion is a process where a function calls itself to solve smaller subproblems of the main problem.\n",
        "\n",
        "✅ **Example Analogy:**\n",
        "\n",
        "Imagine a person standing on stairs:\n",
        "\n",
        "    To reach the 0th stair, they must step down one at a time.\n",
        "\n",
        "    Each step calls the next lower step — that's recursion!\n",
        "\n",
        "📌 Characteristics of Recursion:\n",
        "\n",
        "    Must have a base case to stop.\n",
        "\n",
        "    Must have a recursive case to reduce the problem.\n",
        "\n",
        "    Functions are pushed into the stack memory.\n",
        " 1. Factorial Using Recursion\n",
        "➤ Formula:\n",
        "\n",
        "    𝑛!=𝑛×(𝑛−1)×(𝑛−2)×⋯×1\n",
        "\n",
        "    0!=1(base case)\n",
        "\n",
        "**Steps:**\n",
        "\n",
        "If n == 0, return 1.\n",
        "\n",
        "Else return n * factorial(n-1)."
      ],
      "metadata": {
        "id": "h1Sxd2SDoSiU"
      }
    },
    {
      "cell_type": "code",
      "source": [
        "#include <stdio.h>\n",
        "\n",
        "int factorial(int n) {\n",
        "    if (n == 0) // base case\n",
        "        return 1;\n",
        "    else\n",
        "        return n * factorial(n - 1); // recursive case\n",
        "}\n",
        "\n",
        "int main() {\n",
        "    int num = 5;\n",
        "    printf(\"Factorial of %d is %d\", num, factorial(num));\n",
        "    return 0;\n",
        "}\n"
      ],
      "metadata": {
        "id": "mU_iMXyDpcRt"
      },
      "execution_count": null,
      "outputs": []
    },
    {
      "cell_type": "markdown",
      "source": [
        "**2. Fibonacci Using Recursion**\n",
        "\n",
        "➤ Formula:\n",
        "𝐹(0)=0 , 𝐹(1)=1\n",
        "\n",
        "F(n)=F(n−1)+F(n−2)\n",
        "\n",
        "**✅ Steps:**\n",
        "If n == 0, return 0.\n",
        "\n",
        "If n == 1, return 1.\n",
        "\n",
        "Else return fibonacci(n-1) + fibonacci(n-2).\n"
      ],
      "metadata": {
        "id": "MXSrDUvipniR"
      }
    },
    {
      "cell_type": "code",
      "source": [
        "#include <stdio.h>\n",
        "\n",
        "int fibonacci(int n) {\n",
        "    if (n == 0) return 0;         // base case 1\n",
        "    if (n == 1) return 1;         // base case 2\n",
        "    return fibonacci(n - 1) + fibonacci(n - 2); // recursive case\n",
        "}\n",
        "\n",
        "int main() {\n",
        "    int n = 6;\n",
        "    printf(\"Fibonacci number at position %d is %d\", n, fibonacci(n));\n",
        "    return 0;\n",
        "}\n"
      ],
      "metadata": {
        "id": "b0C8ptbbqE-K"
      },
      "execution_count": null,
      "outputs": []
    },
    {
      "cell_type": "markdown",
      "source": [
        "**3. GCD Using Recursion (Euclidean Algorithm)**\n",
        "\n",
        "➤ Formula:\n",
        "\n",
        "gcd(a,b)=gcd(b,a%b)\n",
        "gcd(a,0)=a\n",
        "\n",
        "**✅ Steps:**\n",
        "If b == 0, return a.\n",
        "\n",
        "Else return gcd(b, a % b)."
      ],
      "metadata": {
        "id": "reiqEUQCqNQZ"
      }
    },
    {
      "cell_type": "code",
      "source": [
        "#include <stdio.h>\n",
        "\n",
        "int gcd(int a, int b) {\n",
        "    if (b == 0)\n",
        "        return a;\n",
        "    else\n",
        "        return gcd(b, a % b);\n",
        "}\n",
        "\n",
        "int main() {\n",
        "    int a = 48, b = 18;\n",
        "    printf(\"GCD of %d and %d is %d\", a, b, gcd(a, b));\n",
        "    return 0;\n",
        "}\n"
      ],
      "metadata": {
        "id": "z_tbEN-TqvAi"
      },
      "execution_count": null,
      "outputs": []
    }
  ]
}