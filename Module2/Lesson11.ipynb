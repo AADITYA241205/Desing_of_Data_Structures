{
  "nbformat": 4,
  "nbformat_minor": 0,
  "metadata": {
    "colab": {
      "provenance": [],
      "include_colab_link": true
    },
    "kernelspec": {
      "name": "python3",
      "display_name": "Python 3"
    },
    "language_info": {
      "name": "python"
    }
  },
  "cells": [
    {
      "cell_type": "markdown",
      "metadata": {
        "id": "view-in-github",
        "colab_type": "text"
      },
      "source": [
        "<a href=\"https://colab.research.google.com/github/anandchauhan21/Desing_of_Data_Structures/blob/tast/Module2/Lesson11.ipynb\" target=\"_parent\"><img src=\"https://colab.research.google.com/assets/colab-badge.svg\" alt=\"Open In Colab\"/></a>"
      ]
    },
    {
      "cell_type": "markdown",
      "source": [
        "# Lesson 11: Recursion: Factorial, GCD, FIbonnaci"
      ],
      "metadata": {
        "id": "GAsElQGciUvd"
      }
    },
    {
      "cell_type": "markdown",
      "source": [
        "# **Recursion**\n",
        "\n",
        "Recursion is a programming concept where a function calls itself in order to solve a problem. It's used to break down complex problems into simpler sub-problems of the same type.\n",
        "\n",
        "Key Concepts:\n",
        "\n",
        "    Base case: The condition that stops the recursion.\n",
        "\n",
        "    Recursive case: The part of the function where it calls itself to work towards the base case.\n",
        "\n",
        "\n"
      ],
      "metadata": {
        "id": "cHQA0b0KSv8W"
      }
    },
    {
      "cell_type": "markdown",
      "source": [
        "# Factorial\n",
        "\n",
        "```\n",
        "factorial(5)\n",
        "→ 5 * factorial(4)\n",
        "→ 5 * 4 * factorial(3)\n",
        "→ 5 * 4 * 3 * factorial(2)\n",
        "→ 5 * 4 * 3 * 2 * factorial(1)\n",
        "→ 5 * 4 * 3 * 2 * 1 = 120\n",
        "```\n",
        "<br>\n",
        "When to Use Recursion:\n",
        "\n",
        "    Problems that can be divided into similar sub-problems\n",
        "    (e.g., tree traversal, factorial, Fibonacci numbers).\n",
        "\n",
        "    Situations where iteration is complex or unnatural.\n",
        "\n"
      ],
      "metadata": {
        "id": "2b_Fm1ciY_aX"
      }
    },
    {
      "cell_type": "markdown",
      "source": [
        "## Python code"
      ],
      "metadata": {
        "id": "JloZOag8Ri8z"
      }
    },
    {
      "cell_type": "markdown",
      "source": [
        "### ✅ Using a loop:"
      ],
      "metadata": {
        "id": "mJznmk1WRsA8"
      }
    },
    {
      "cell_type": "code",
      "source": [
        "def factorial(n):\n",
        "    if n < 0:\n",
        "        return \"Factorial is not defined for negative numbers.\"\n",
        "    result = 1\n",
        "    for i in range(1, n + 1):\n",
        "        result *= i\n",
        "    return result\n",
        "\n",
        "# Example usage\n",
        "print(factorial(5))  # Output: 120\n"
      ],
      "metadata": {
        "id": "eFqh-zosRiFs",
        "outputId": "60f0d9e0-91c3-4bc5-c1fd-abf93b5772e8",
        "colab": {
          "base_uri": "https://localhost:8080/"
        }
      },
      "execution_count": null,
      "outputs": [
        {
          "output_type": "stream",
          "name": "stdout",
          "text": [
            "120\n"
          ]
        }
      ]
    },
    {
      "cell_type": "markdown",
      "source": [
        "### ✅ Using recursion:"
      ],
      "metadata": {
        "id": "rXs-V-uBRxV6"
      }
    },
    {
      "cell_type": "code",
      "source": [
        "def factorial(n):\n",
        "    if n < 0:\n",
        "        return \"Factorial is not defined for negative numbers.\"\n",
        "    if n == 0 or n == 1:\n",
        "        return 1\n",
        "    return n * factorial(n - 1)\n",
        "\n",
        "# Example usage\n",
        "print(factorial(5))  # Output: 120"
      ],
      "metadata": {
        "id": "UBdBUI8QR126"
      },
      "execution_count": null,
      "outputs": []
    },
    {
      "cell_type": "markdown",
      "source": [
        "## C++ code"
      ],
      "metadata": {
        "id": "wb2YGnNWXk5C"
      }
    },
    {
      "cell_type": "code",
      "source": [
        "%%writefile factorial.cpp\n",
        "\n",
        "#include <iostream>\n",
        "using namespace std;\n",
        "\n",
        "int factorial(int n) {\n",
        "    if (n == 1)\n",
        "        return 1; // base case\n",
        "    else\n",
        "        return n * factorial(n - 1); // recursive call\n",
        "}\n",
        "\n",
        "int main() {\n",
        "    int num = 5;\n",
        "    cout << \"Factorial of \" << num << \" is \" << factorial(num) << endl;\n",
        "    return 0;\n",
        "}"
      ],
      "metadata": {
        "id": "9_rFEtbDXOaj",
        "outputId": "a5c64090-ea0e-4d4a-f5d1-382f2e43a5d1",
        "colab": {
          "base_uri": "https://localhost:8080/"
        }
      },
      "execution_count": null,
      "outputs": [
        {
          "output_type": "stream",
          "name": "stdout",
          "text": [
            "Writing factorial.cpp\n"
          ]
        }
      ]
    },
    {
      "cell_type": "code",
      "source": [
        "!g++ factorial.cpp -o factorial"
      ],
      "metadata": {
        "id": "e0TRC7wgXvD1"
      },
      "execution_count": null,
      "outputs": []
    },
    {
      "cell_type": "code",
      "source": [
        "!./factorial"
      ],
      "metadata": {
        "id": "6IW3ea3DXzQx",
        "outputId": "6a6ad571-d85b-4d14-ade6-8af6a248be16",
        "colab": {
          "base_uri": "https://localhost:8080/"
        }
      },
      "execution_count": null,
      "outputs": [
        {
          "output_type": "stream",
          "name": "stdout",
          "text": [
            "Factorial of 5 is 120\n"
          ]
        }
      ]
    },
    {
      "cell_type": "markdown",
      "source": [
        "## C code"
      ],
      "metadata": {
        "id": "ZbaNBc4JGioM"
      }
    },
    {
      "cell_type": "code",
      "source": [
        "%%writefile factorial.c\n",
        "#include <stdio.h>\n",
        "\n",
        "int factorial(int n) {\n",
        "    if (n == 1)\n",
        "        return 1; // base case\n",
        "    else\n",
        "        return n * factorial(n - 1); // recursive call\n",
        "}\n",
        "\n",
        "int main() {\n",
        "    int num = 5;\n",
        "    printf(\"Factorial of %d is %d\\n\", num, factorial(num));\n",
        "    return 0;\n",
        "}\n"
      ],
      "metadata": {
        "id": "mU_iMXyDpcRt",
        "outputId": "6f880ccb-7cab-45d5-b5bd-d7aef3c61968",
        "colab": {
          "base_uri": "https://localhost:8080/"
        }
      },
      "execution_count": null,
      "outputs": [
        {
          "output_type": "stream",
          "name": "stdout",
          "text": [
            "Overwriting factorial.c\n"
          ]
        }
      ]
    },
    {
      "cell_type": "code",
      "source": [
        "# Compile the C code using GCC\n",
        "!gcc factorial.c\n",
        "\n",
        "# Run the compiled program\n",
        "!./a.out\n"
      ],
      "metadata": {
        "id": "Rfj1xZrsVRDE",
        "outputId": "f49111c5-7d33-415f-fb8d-adf502db04a3",
        "colab": {
          "base_uri": "https://localhost:8080/"
        }
      },
      "execution_count": null,
      "outputs": [
        {
          "output_type": "stream",
          "name": "stdout",
          "text": [
            "Factorial of 5 is 120\n"
          ]
        }
      ]
    },
    {
      "cell_type": "markdown",
      "source": [
        "##JAVA code"
      ],
      "metadata": {
        "id": "CMsPDWdJV8gK"
      }
    },
    {
      "cell_type": "code",
      "source": [
        "!apt-get install openjdk-17-jdk -y"
      ],
      "metadata": {
        "collapsed": true,
        "id": "wJo6NDsjWDWm",
        "outputId": "a5b46f71-f0bc-416e-eef5-57aa5c01674d",
        "colab": {
          "base_uri": "https://localhost:8080/"
        }
      },
      "execution_count": null,
      "outputs": [
        {
          "output_type": "stream",
          "name": "stdout",
          "text": [
            "Reading package lists... Done\n",
            "Building dependency tree... Done\n",
            "Reading state information... Done\n",
            "The following additional packages will be installed:\n",
            "  fonts-dejavu-core fonts-dejavu-extra libatk-wrapper-java\n",
            "  libatk-wrapper-java-jni libxt-dev libxtst6 libxxf86dga1\n",
            "  openjdk-17-jdk-headless openjdk-17-jre openjdk-17-jre-headless x11-utils\n",
            "Suggested packages:\n",
            "  libxt-doc openjdk-17-demo openjdk-17-source visualvm libnss-mdns\n",
            "  fonts-ipafont-gothic fonts-ipafont-mincho fonts-wqy-microhei\n",
            "  | fonts-wqy-zenhei fonts-indic mesa-utils\n",
            "The following NEW packages will be installed:\n",
            "  fonts-dejavu-core fonts-dejavu-extra libatk-wrapper-java\n",
            "  libatk-wrapper-java-jni libxt-dev libxtst6 libxxf86dga1 openjdk-17-jdk\n",
            "  openjdk-17-jdk-headless openjdk-17-jre openjdk-17-jre-headless x11-utils\n",
            "0 upgraded, 12 newly installed, 0 to remove and 35 not upgraded.\n",
            "Need to get 126 MB of archives.\n",
            "After this operation, 288 MB of additional disk space will be used.\n",
            "Get:1 http://archive.ubuntu.com/ubuntu jammy/main amd64 fonts-dejavu-core all 2.37-2build1 [1,041 kB]\n",
            "Get:2 http://archive.ubuntu.com/ubuntu jammy/main amd64 fonts-dejavu-extra all 2.37-2build1 [2,041 kB]\n",
            "Get:3 http://archive.ubuntu.com/ubuntu jammy/main amd64 libxtst6 amd64 2:1.2.3-1build4 [13.4 kB]\n",
            "Get:4 http://archive.ubuntu.com/ubuntu jammy/main amd64 libxxf86dga1 amd64 2:1.1.5-0ubuntu3 [12.6 kB]\n",
            "Get:5 http://archive.ubuntu.com/ubuntu jammy/main amd64 x11-utils amd64 7.7+5build2 [206 kB]\n",
            "Get:6 http://archive.ubuntu.com/ubuntu jammy/main amd64 libatk-wrapper-java all 0.38.0-5build1 [53.1 kB]\n",
            "Get:7 http://archive.ubuntu.com/ubuntu jammy/main amd64 libatk-wrapper-java-jni amd64 0.38.0-5build1 [49.0 kB]\n",
            "Get:8 http://archive.ubuntu.com/ubuntu jammy/main amd64 libxt-dev amd64 1:1.2.1-1 [396 kB]\n",
            "Get:9 http://archive.ubuntu.com/ubuntu jammy-updates/universe amd64 openjdk-17-jre-headless amd64 17.0.15+6~us1-0ubuntu1~22.04 [48.3 MB]\n",
            "Get:10 http://archive.ubuntu.com/ubuntu jammy-updates/universe amd64 openjdk-17-jre amd64 17.0.15+6~us1-0ubuntu1~22.04 [232 kB]\n",
            "Get:11 http://archive.ubuntu.com/ubuntu jammy-updates/universe amd64 openjdk-17-jdk-headless amd64 17.0.15+6~us1-0ubuntu1~22.04 [71.3 MB]\n",
            "Get:12 http://archive.ubuntu.com/ubuntu jammy-updates/universe amd64 openjdk-17-jdk amd64 17.0.15+6~us1-0ubuntu1~22.04 [2,403 kB]\n",
            "Fetched 126 MB in 6s (20.8 MB/s)\n",
            "Selecting previously unselected package fonts-dejavu-core.\n",
            "(Reading database ... 126308 files and directories currently installed.)\n",
            "Preparing to unpack .../00-fonts-dejavu-core_2.37-2build1_all.deb ...\n",
            "Unpacking fonts-dejavu-core (2.37-2build1) ...\n",
            "Selecting previously unselected package fonts-dejavu-extra.\n",
            "Preparing to unpack .../01-fonts-dejavu-extra_2.37-2build1_all.deb ...\n",
            "Unpacking fonts-dejavu-extra (2.37-2build1) ...\n",
            "Selecting previously unselected package libxtst6:amd64.\n",
            "Preparing to unpack .../02-libxtst6_2%3a1.2.3-1build4_amd64.deb ...\n",
            "Unpacking libxtst6:amd64 (2:1.2.3-1build4) ...\n",
            "Selecting previously unselected package libxxf86dga1:amd64.\n",
            "Preparing to unpack .../03-libxxf86dga1_2%3a1.1.5-0ubuntu3_amd64.deb ...\n",
            "Unpacking libxxf86dga1:amd64 (2:1.1.5-0ubuntu3) ...\n",
            "Selecting previously unselected package x11-utils.\n",
            "Preparing to unpack .../04-x11-utils_7.7+5build2_amd64.deb ...\n",
            "Unpacking x11-utils (7.7+5build2) ...\n",
            "Selecting previously unselected package libatk-wrapper-java.\n",
            "Preparing to unpack .../05-libatk-wrapper-java_0.38.0-5build1_all.deb ...\n",
            "Unpacking libatk-wrapper-java (0.38.0-5build1) ...\n",
            "Selecting previously unselected package libatk-wrapper-java-jni:amd64.\n",
            "Preparing to unpack .../06-libatk-wrapper-java-jni_0.38.0-5build1_amd64.deb ...\n",
            "Unpacking libatk-wrapper-java-jni:amd64 (0.38.0-5build1) ...\n",
            "Selecting previously unselected package libxt-dev:amd64.\n",
            "Preparing to unpack .../07-libxt-dev_1%3a1.2.1-1_amd64.deb ...\n",
            "Unpacking libxt-dev:amd64 (1:1.2.1-1) ...\n",
            "Selecting previously unselected package openjdk-17-jre-headless:amd64.\n",
            "Preparing to unpack .../08-openjdk-17-jre-headless_17.0.15+6~us1-0ubuntu1~22.04_amd64.deb ...\n",
            "Unpacking openjdk-17-jre-headless:amd64 (17.0.15+6~us1-0ubuntu1~22.04) ...\n",
            "Selecting previously unselected package openjdk-17-jre:amd64.\n",
            "Preparing to unpack .../09-openjdk-17-jre_17.0.15+6~us1-0ubuntu1~22.04_amd64.deb ...\n",
            "Unpacking openjdk-17-jre:amd64 (17.0.15+6~us1-0ubuntu1~22.04) ...\n",
            "Selecting previously unselected package openjdk-17-jdk-headless:amd64.\n",
            "Preparing to unpack .../10-openjdk-17-jdk-headless_17.0.15+6~us1-0ubuntu1~22.04_amd64.deb ...\n",
            "Unpacking openjdk-17-jdk-headless:amd64 (17.0.15+6~us1-0ubuntu1~22.04) ...\n",
            "Selecting previously unselected package openjdk-17-jdk:amd64.\n",
            "Preparing to unpack .../11-openjdk-17-jdk_17.0.15+6~us1-0ubuntu1~22.04_amd64.deb ...\n",
            "Unpacking openjdk-17-jdk:amd64 (17.0.15+6~us1-0ubuntu1~22.04) ...\n",
            "Setting up libxtst6:amd64 (2:1.2.3-1build4) ...\n",
            "Setting up libxxf86dga1:amd64 (2:1.1.5-0ubuntu3) ...\n",
            "Setting up libxt-dev:amd64 (1:1.2.1-1) ...\n",
            "Setting up fonts-dejavu-core (2.37-2build1) ...\n",
            "Setting up openjdk-17-jre-headless:amd64 (17.0.15+6~us1-0ubuntu1~22.04) ...\n",
            "update-alternatives: using /usr/lib/jvm/java-17-openjdk-amd64/bin/java to provide /usr/bin/java (java) in auto mode\n",
            "update-alternatives: using /usr/lib/jvm/java-17-openjdk-amd64/bin/jpackage to provide /usr/bin/jpackage (jpackage) in auto mode\n",
            "update-alternatives: using /usr/lib/jvm/java-17-openjdk-amd64/bin/keytool to provide /usr/bin/keytool (keytool) in auto mode\n",
            "update-alternatives: using /usr/lib/jvm/java-17-openjdk-amd64/bin/rmiregistry to provide /usr/bin/rmiregistry (rmiregistry) in auto mode\n",
            "update-alternatives: using /usr/lib/jvm/java-17-openjdk-amd64/lib/jexec to provide /usr/bin/jexec (jexec) in auto mode\n",
            "Setting up fonts-dejavu-extra (2.37-2build1) ...\n",
            "Setting up x11-utils (7.7+5build2) ...\n",
            "Setting up libatk-wrapper-java (0.38.0-5build1) ...\n",
            "Setting up openjdk-17-jre:amd64 (17.0.15+6~us1-0ubuntu1~22.04) ...\n",
            "Setting up libatk-wrapper-java-jni:amd64 (0.38.0-5build1) ...\n",
            "Setting up openjdk-17-jdk-headless:amd64 (17.0.15+6~us1-0ubuntu1~22.04) ...\n",
            "update-alternatives: using /usr/lib/jvm/java-17-openjdk-amd64/bin/jar to provide /usr/bin/jar (jar) in auto mode\n",
            "update-alternatives: using /usr/lib/jvm/java-17-openjdk-amd64/bin/jarsigner to provide /usr/bin/jarsigner (jarsigner) in auto mode\n",
            "update-alternatives: using /usr/lib/jvm/java-17-openjdk-amd64/bin/javac to provide /usr/bin/javac (javac) in auto mode\n",
            "update-alternatives: using /usr/lib/jvm/java-17-openjdk-amd64/bin/javadoc to provide /usr/bin/javadoc (javadoc) in auto mode\n",
            "update-alternatives: using /usr/lib/jvm/java-17-openjdk-amd64/bin/javap to provide /usr/bin/javap (javap) in auto mode\n",
            "update-alternatives: using /usr/lib/jvm/java-17-openjdk-amd64/bin/jcmd to provide /usr/bin/jcmd (jcmd) in auto mode\n",
            "update-alternatives: using /usr/lib/jvm/java-17-openjdk-amd64/bin/jdb to provide /usr/bin/jdb (jdb) in auto mode\n",
            "update-alternatives: using /usr/lib/jvm/java-17-openjdk-amd64/bin/jdeprscan to provide /usr/bin/jdeprscan (jdeprscan) in auto mode\n",
            "update-alternatives: using /usr/lib/jvm/java-17-openjdk-amd64/bin/jdeps to provide /usr/bin/jdeps (jdeps) in auto mode\n",
            "update-alternatives: using /usr/lib/jvm/java-17-openjdk-amd64/bin/jfr to provide /usr/bin/jfr (jfr) in auto mode\n",
            "update-alternatives: using /usr/lib/jvm/java-17-openjdk-amd64/bin/jimage to provide /usr/bin/jimage (jimage) in auto mode\n",
            "update-alternatives: using /usr/lib/jvm/java-17-openjdk-amd64/bin/jinfo to provide /usr/bin/jinfo (jinfo) in auto mode\n",
            "update-alternatives: using /usr/lib/jvm/java-17-openjdk-amd64/bin/jlink to provide /usr/bin/jlink (jlink) in auto mode\n",
            "update-alternatives: using /usr/lib/jvm/java-17-openjdk-amd64/bin/jmap to provide /usr/bin/jmap (jmap) in auto mode\n",
            "update-alternatives: using /usr/lib/jvm/java-17-openjdk-amd64/bin/jmod to provide /usr/bin/jmod (jmod) in auto mode\n",
            "update-alternatives: using /usr/lib/jvm/java-17-openjdk-amd64/bin/jps to provide /usr/bin/jps (jps) in auto mode\n",
            "update-alternatives: using /usr/lib/jvm/java-17-openjdk-amd64/bin/jrunscript to provide /usr/bin/jrunscript (jrunscript) in auto mode\n",
            "update-alternatives: using /usr/lib/jvm/java-17-openjdk-amd64/bin/jshell to provide /usr/bin/jshell (jshell) in auto mode\n",
            "update-alternatives: using /usr/lib/jvm/java-17-openjdk-amd64/bin/jstack to provide /usr/bin/jstack (jstack) in auto mode\n",
            "update-alternatives: using /usr/lib/jvm/java-17-openjdk-amd64/bin/jstat to provide /usr/bin/jstat (jstat) in auto mode\n",
            "update-alternatives: using /usr/lib/jvm/java-17-openjdk-amd64/bin/jstatd to provide /usr/bin/jstatd (jstatd) in auto mode\n",
            "update-alternatives: using /usr/lib/jvm/java-17-openjdk-amd64/bin/serialver to provide /usr/bin/serialver (serialver) in auto mode\n",
            "update-alternatives: using /usr/lib/jvm/java-17-openjdk-amd64/bin/jhsdb to provide /usr/bin/jhsdb (jhsdb) in auto mode\n",
            "Setting up openjdk-17-jdk:amd64 (17.0.15+6~us1-0ubuntu1~22.04) ...\n",
            "update-alternatives: using /usr/lib/jvm/java-17-openjdk-amd64/bin/jconsole to provide /usr/bin/jconsole (jconsole) in auto mode\n",
            "Processing triggers for fontconfig (2.13.1-4.2ubuntu5) ...\n",
            "Processing triggers for hicolor-icon-theme (0.17-2) ...\n",
            "Processing triggers for libc-bin (2.35-0ubuntu3.8) ...\n",
            "/sbin/ldconfig.real: /usr/local/lib/libtbb.so.12 is not a symbolic link\n",
            "\n",
            "/sbin/ldconfig.real: /usr/local/lib/libhwloc.so.15 is not a symbolic link\n",
            "\n",
            "/sbin/ldconfig.real: /usr/local/lib/libtcm.so.1 is not a symbolic link\n",
            "\n",
            "/sbin/ldconfig.real: /usr/local/lib/libtbbbind_2_5.so.3 is not a symbolic link\n",
            "\n",
            "/sbin/ldconfig.real: /usr/local/lib/libur_loader.so.0 is not a symbolic link\n",
            "\n",
            "/sbin/ldconfig.real: /usr/local/lib/libtbbbind.so.3 is not a symbolic link\n",
            "\n",
            "/sbin/ldconfig.real: /usr/local/lib/libur_adapter_level_zero.so.0 is not a symbolic link\n",
            "\n",
            "/sbin/ldconfig.real: /usr/local/lib/libur_adapter_level_zero_v2.so.0 is not a symbolic link\n",
            "\n",
            "/sbin/ldconfig.real: /usr/local/lib/libtbbmalloc.so.2 is not a symbolic link\n",
            "\n",
            "/sbin/ldconfig.real: /usr/local/lib/libur_adapter_opencl.so.0 is not a symbolic link\n",
            "\n",
            "/sbin/ldconfig.real: /usr/local/lib/libtbbmalloc_proxy.so.2 is not a symbolic link\n",
            "\n",
            "/sbin/ldconfig.real: /usr/local/lib/libtcm_debug.so.1 is not a symbolic link\n",
            "\n",
            "/sbin/ldconfig.real: /usr/local/lib/libumf.so.0 is not a symbolic link\n",
            "\n",
            "/sbin/ldconfig.real: /usr/local/lib/libtbbbind_2_0.so.3 is not a symbolic link\n",
            "\n",
            "Processing triggers for man-db (2.10.2-1) ...\n",
            "Processing triggers for mailcap (3.70+nmu1ubuntu1) ...\n"
          ]
        }
      ]
    },
    {
      "cell_type": "code",
      "source": [
        "%%writefile Factorial.java\n",
        "public class Factorial {\n",
        "    public static int factorial(int n) {\n",
        "        if (n == 1) return 1;\n",
        "        return n * factorial(n - 1);\n",
        "    }\n",
        "\n",
        "    public static void main(String[] args) {\n",
        "        int num = 5;\n",
        "        System.out.println(\"Factorial of \" + num + \" is \" + factorial(num));\n",
        "    }\n",
        "}"
      ],
      "metadata": {
        "id": "rbdAmzdYWIIi",
        "outputId": "86dcc3fc-facf-4514-f34c-4198da916f97",
        "colab": {
          "base_uri": "https://localhost:8080/"
        }
      },
      "execution_count": null,
      "outputs": [
        {
          "output_type": "stream",
          "name": "stdout",
          "text": [
            "Overwriting Factorial.java\n"
          ]
        }
      ]
    },
    {
      "cell_type": "code",
      "source": [
        "!javac Factorial.java"
      ],
      "metadata": {
        "id": "o-UNs-jqWN8R"
      },
      "execution_count": null,
      "outputs": []
    },
    {
      "cell_type": "code",
      "source": [
        "!java Factorial"
      ],
      "metadata": {
        "id": "KaHLxCKtWRBa",
        "outputId": "448c9c11-c309-4cfa-81ab-7c166d061a41",
        "colab": {
          "base_uri": "https://localhost:8080/"
        }
      },
      "execution_count": null,
      "outputs": [
        {
          "output_type": "stream",
          "name": "stdout",
          "text": [
            "Factorial of 5 is 120\n"
          ]
        }
      ]
    },
    {
      "cell_type": "markdown",
      "source": [
        "# Greatest Common Divisor(GCD)\n",
        "\n",
        "GCD stands for Greatest Common Divisor. It is the largest positive integer that divides two or more integers without leaving a remainder.\n",
        "Example:\n",
        "\n",
        "#### Find the GCD of 12 and 18:\n",
        "\n",
        "    Divisors of 12: 1, 2, 3, 4, 6, 12\n",
        "\n",
        "    Divisors of 18: 1, 2, 3, 6, 9, 18\n",
        "\n",
        "    Common divisors: 1, 2, 3, 6\n",
        "    ✅ GCD = 6\n",
        "  \n",
        "#### Ways to Compute GCD:\n",
        "\n",
        "    By Listing Divisors (as shown above)\n",
        "\n",
        "    Using Prime Factorization\n",
        "\n",
        "    Using the Euclidean Algorithm\n",
        "    Example: GCD(48, 18)\n",
        "\n",
        "    48 ÷ 18 = 2 remainder 12  \n",
        "    18 ÷ 12 = 1 remainder 6  \n",
        "    12 ÷ 6  = 2 remainder 0  \n",
        "    → GCD = 6\n",
        "\n",
        "#### Use Cases:\n",
        "\n",
        "    Simplifying fractions (e.g., 8/12 = (8÷4)/(12÷4) = 2/3)\n",
        "\n",
        "    Finding common periods in cyclic problems\n",
        "\n",
        "    Number theory and cryptography\n",
        "\n"
      ],
      "metadata": {
        "id": "KMo6oCLlZKk3"
      }
    },
    {
      "cell_type": "markdown",
      "source": [
        "## Python code"
      ],
      "metadata": {
        "id": "JAJar6fhg7Va"
      }
    },
    {
      "cell_type": "markdown",
      "source": [
        "### ✅ The Euclidean Algorithm"
      ],
      "metadata": {
        "id": "TxSCi-zPg7Ve"
      }
    },
    {
      "cell_type": "code",
      "source": [
        "def find_gcd(a, b):\n",
        "    while b != 0:\n",
        "        a, b = b, a % b\n",
        "    return a\n",
        "\n",
        "a = 48\n",
        "b = 18\n",
        "\n",
        "print(\"GCD is:\", find_gcd(a, b))\n"
      ],
      "metadata": {
        "outputId": "6677bbc2-6c69-4b72-abe4-11cd86ce0ccf",
        "colab": {
          "base_uri": "https://localhost:8080/"
        },
        "id": "WZWCTmdXg7Vf"
      },
      "execution_count": null,
      "outputs": [
        {
          "output_type": "stream",
          "name": "stdout",
          "text": [
            "GCD is: 6\n"
          ]
        }
      ]
    },
    {
      "cell_type": "markdown",
      "source": [
        "### ✅ Recursive Function for GCD"
      ],
      "metadata": {
        "id": "-OmXGeQ6g7Vg"
      }
    },
    {
      "cell_type": "code",
      "source": [
        "def gcd(a, b):\n",
        "    if b == 0:\n",
        "        return a\n",
        "    else:\n",
        "        return gcd(b, a % b)\n",
        "\n",
        "# Example usage\n",
        "a = 48\n",
        "b = 18\n",
        "print(\"GCD is:\", gcd(a, b))\n"
      ],
      "metadata": {
        "id": "GcTadqDDg7Vh"
      },
      "execution_count": null,
      "outputs": []
    },
    {
      "cell_type": "markdown",
      "source": [
        "## C++ code"
      ],
      "metadata": {
        "id": "bzufOcrGhTN_"
      }
    },
    {
      "cell_type": "code",
      "source": [
        "%%writefile Rgcd.cpp\n",
        "#include <iostream>\n",
        "using namespace std;\n",
        "\n",
        "// Recursive function to find GCD\n",
        "int gcd(int a, int b) {\n",
        "    if (b == 0)\n",
        "        return a;\n",
        "    return gcd(b, a % b);\n",
        "}\n",
        "\n",
        "int main() {\n",
        "    int a = 66, b = 18;\n",
        "    cout << \"GCD of \" << a << \" and \" << b << \" is: \" << gcd(a, b) << endl;\n",
        "    return 0;\n",
        "}\n"
      ],
      "metadata": {
        "id": "aEbYMhXFiKPV",
        "outputId": "74d5643c-5ef5-4d61-f572-13794c647275",
        "colab": {
          "base_uri": "https://localhost:8080/"
        }
      },
      "execution_count": 21,
      "outputs": [
        {
          "output_type": "stream",
          "name": "stdout",
          "text": [
            "Overwriting Rgcd.cpp\n"
          ]
        }
      ]
    },
    {
      "cell_type": "code",
      "source": [
        "!g++ Rgcd.cpp"
      ],
      "metadata": {
        "id": "x-DxbA5Jjdcf"
      },
      "execution_count": 22,
      "outputs": []
    },
    {
      "cell_type": "code",
      "source": [
        "!./a.out"
      ],
      "metadata": {
        "id": "vBMls_7Ijz4_",
        "outputId": "e42b24e4-a9d7-47c5-f470-edaa4e0f96e9",
        "colab": {
          "base_uri": "https://localhost:8080/"
        }
      },
      "execution_count": 23,
      "outputs": [
        {
          "output_type": "stream",
          "name": "stdout",
          "text": [
            "GCD of 66 and 18 is: 6\n"
          ]
        }
      ]
    },
    {
      "cell_type": "markdown",
      "source": [
        "## C code"
      ],
      "metadata": {
        "id": "-OV8Al1bhbII"
      }
    },
    {
      "cell_type": "code",
      "source": [
        "%%writefile gcd.c\n",
        "#include <stdio.h>\n",
        "\n",
        "// Recursive function to find GCD\n",
        "int gcd(int a, int b) {\n",
        "    if (b == 0)\n",
        "        return a;\n",
        "    return gcd(b, a % b);\n",
        "}\n",
        "\n",
        "int main() {\n",
        "    int a, b;\n",
        "    printf(\"Enter two integers: \");\n",
        "    scanf(\"%d %d\", &a, &b);\n",
        "    printf(\"GCD of %d and %d is: %d\\n\", a, b, gcd(a, b));\n",
        "    return 0;\n",
        "}\n"
      ],
      "metadata": {
        "id": "ax9eRITIkFz7",
        "outputId": "78cfa8d4-4a5a-4ab7-c891-d16708938c36",
        "colab": {
          "base_uri": "https://localhost:8080/"
        }
      },
      "execution_count": 26,
      "outputs": [
        {
          "output_type": "stream",
          "name": "stdout",
          "text": [
            "Overwriting gcd.c\n"
          ]
        }
      ]
    },
    {
      "cell_type": "code",
      "source": [
        "!gcc gcd.c"
      ],
      "metadata": {
        "id": "hNphTLKckIS-"
      },
      "execution_count": 28,
      "outputs": []
    },
    {
      "cell_type": "code",
      "source": [
        "!./a.out5"
      ],
      "metadata": {
        "id": "EnxD1HJ2kO2M",
        "outputId": "23a8660d-0495-4772-fcd7-190aac26e124",
        "colab": {
          "base_uri": "https://localhost:8080/"
        }
      },
      "execution_count": 29,
      "outputs": [
        {
          "output_type": "stream",
          "name": "stdout",
          "text": [
            "Enter two integers: 5\n",
            "25\n",
            "GCD of 5 and 25 is: 5\n"
          ]
        }
      ]
    },
    {
      "cell_type": "markdown",
      "source": [
        "## JAVA code"
      ],
      "metadata": {
        "id": "SvwG17Hghf0v"
      }
    },
    {
      "cell_type": "code",
      "source": [
        "%%writefile GCD.java\n",
        "import java.util.Scanner;\n",
        "\n",
        "public class GCD {\n",
        "    // Recursive function to compute GCD\n",
        "    public static int gcd(int a, int b) {\n",
        "        if (b == 0)\n",
        "            return a;\n",
        "        return gcd(b, a % b);\n",
        "    }\n",
        "\n",
        "    public static void main(String[] args) {\n",
        "        Scanner sc = new Scanner(System.in);\n",
        "        System.out.print(\"Enter two integers: \");\n",
        "        int a = sc.nextInt();\n",
        "        int b = sc.nextInt();\n",
        "        System.out.println(\"GCD of \" + a + \" and \" + b + \" is: \" + gcd(a, b));\n",
        "    }\n",
        "}\n"
      ],
      "metadata": {
        "id": "RmcZP-TkkoHR",
        "outputId": "08406039-5fe5-43fb-9326-6d0b6532b2a2",
        "colab": {
          "base_uri": "https://localhost:8080/"
        }
      },
      "execution_count": 30,
      "outputs": [
        {
          "output_type": "stream",
          "name": "stdout",
          "text": [
            "Writing GCD.java\n"
          ]
        }
      ]
    },
    {
      "cell_type": "code",
      "source": [
        "!javac GCD.java"
      ],
      "metadata": {
        "id": "f7kdZGKFkpwU"
      },
      "execution_count": 31,
      "outputs": []
    },
    {
      "cell_type": "code",
      "source": [
        "!java GCD"
      ],
      "metadata": {
        "id": "p5XJRNspkv6b",
        "outputId": "66076cd7-472b-4f2b-a0e8-fcd23c92fd73",
        "colab": {
          "base_uri": "https://localhost:8080/"
        }
      },
      "execution_count": 32,
      "outputs": [
        {
          "output_type": "stream",
          "name": "stdout",
          "text": [
            "Enter two integers: 78\n",
            "46\n",
            "GCD of 78 and 46 is: 2\n"
          ]
        }
      ]
    },
    {
      "cell_type": "markdown",
      "source": [
        "# sir"
      ],
      "metadata": {
        "id": "Wckeh_mCgzD5"
      }
    },
    {
      "cell_type": "markdown",
      "source": [
        "**Tower of Hanoi**\n",
        "\n",
        " Tower of Hanoi basically comes from a Chinese or Japanese source\n",
        "\n",
        " • It’s a simple game concept which can be applied in stacks. The concept is\n",
        " that the bigger value should not be kept upon the smaller value\n",
        "\n",
        " • It is necessary to stack all disks onto a third tower in decreasing order of\n",
        " size\n",
        "\n",
        " • The second tower may be used as temporary storage\n",
        "\n",
        " • The conditions are\n",
        "\n",
        " 1) only one value may be moved at a time\n",
        "\n",
        " 2) the larger value never rest upon smaller value\n",
        "\n",
        " • Formula for finding minimum number of moves is 2^n-1\n"
      ],
      "metadata": {
        "id": "eLZ3LFpPH0sd"
      }
    },
    {
      "cell_type": "markdown",
      "source": [
        "**Algorithm for Tower of Hanoi**\n",
        "\n",
        "Step 1:- if n=1 then print”disc -1 from A->C & return”\n",
        "\n",
        " Step 2:- [Move top n-1 disks from A->B] Tower(n-1,a,c,b)\n",
        "\n",
        " Step 3:- print”disc-n from A->C”\n",
        "\n",
        "Step 4:- [Move n-1 disks from B->C] tower(n-1,b,a,c)\n",
        "\n",
        " Step 5:- return"
      ],
      "metadata": {
        "id": "TsmPYDxkILtH"
      }
    },
    {
      "cell_type": "markdown",
      "source": [
        "![image.png](data:image/png;base64,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)"
      ],
      "metadata": {
        "id": "L9V5qJdeIjw5"
      }
    },
    {
      "cell_type": "markdown",
      "source": [],
      "metadata": {
        "id": "oPXAu3ynJGu2"
      }
    },
    {
      "cell_type": "markdown",
      "source": [
        "**2. Fibonacci Using Recursion**\n",
        "\n",
        "The Fibonacci series is a sequence in which each number is the sum of the two preceding ones.\n",
        "\n",
        "    0, 1, 1, 2, 3, 5, 8, 13, ...\n",
        "\n",
        "\n",
        "Series:\n",
        "\n",
        "➤ Formula:\n",
        "𝐹(0)=0 , 𝐹(1)=1\n",
        "\n",
        "F(n)=F(n−1)+F(n−2)\n",
        "\n",
        "**✅ Steps:**\n",
        "\n",
        "If n == 0, return 0.\n",
        "\n",
        "If n == 1, return 1.\n",
        "\n",
        "Else return fibonacci(n-1) + fibonacci(n-2).\n"
      ],
      "metadata": {
        "id": "MXSrDUvipniR"
      }
    },
    {
      "cell_type": "code",
      "source": [
        "#include <stdio.h>\n",
        "\n",
        "int fibonacci(int n) {\n",
        "    if (n == 0) return 0;         // base case 1\n",
        "    if (n == 1) return 1;         // base case 2\n",
        "    return fibonacci(n - 1) + fibonacci(n - 2); // recursive case\n",
        "}\n",
        "\n",
        "int main() {\n",
        "    int n = 6;\n",
        "    printf(\"Fibonacci number at position %d is %d\", n, fibonacci(n));\n",
        "    return 0;\n",
        "}\n"
      ],
      "metadata": {
        "id": "b0C8ptbbqE-K"
      },
      "execution_count": null,
      "outputs": []
    },
    {
      "cell_type": "markdown",
      "source": [
        "**3. GCD Using Recursion (Euclidean Algorithm)**\n",
        "\n",
        "The Greatest Common Divisor (GCD) of two integers a and b is the largest positive integer that divides both a and b without leaving a remainder.\n",
        "\n",
        "**The Euclidean Algorithm is based on the principle:**\n",
        "\n",
        "\n",
        "GCD(a, b) = GCD(b, a % b)\n",
        "\n",
        "If b == 0, then GCD(a, b) = a\n",
        "\n",
        "Else, GCD(a, b) = GCD(b, a % b)\n",
        "\n",
        "\n",
        "**✅ Why it works:**\n",
        "\n",
        "This is because the common divisors of a and b are the same as the common divisors of b and a % b.\n",
        "This method keeps reducing the problem until b becomes 0\n",
        "\n",
        "➤ Formula:\n",
        "\n",
        "gcd(a,b)=gcd(b,a%b)\n",
        "\n",
        "gcd(a,0)=a\n",
        "\n",
        "**✅ Steps:**\n",
        "If b == 0, return a.\n",
        "\n",
        "Else return gcd(b, a % b)."
      ],
      "metadata": {
        "id": "reiqEUQCqNQZ"
      }
    },
    {
      "cell_type": "code",
      "source": [
        "#include <stdio.h>\n",
        "\n",
        "int gcd(int a, int b) {\n",
        "    if (b == 0)\n",
        "        return a;\n",
        "    else\n",
        "        return gcd(b, a % b);\n",
        "}\n",
        "\n",
        "int main() {\n",
        "    int a = 48, b = 18;\n",
        "    printf(\"GCD of %d and %d is %d\", a, b, gcd(a, b));\n",
        "    return 0;\n",
        "}\n"
      ],
      "metadata": {
        "id": "z_tbEN-TqvAi"
      },
      "execution_count": null,
      "outputs": []
    },
    {
      "cell_type": "code",
      "source": [],
      "metadata": {
        "id": "LVgrZ4x_SbBk"
      },
      "execution_count": null,
      "outputs": []
    }
  ]
}
