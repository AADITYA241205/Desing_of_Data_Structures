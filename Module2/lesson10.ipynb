{
  "nbformat": 4,
  "nbformat_minor": 0,
  "metadata": {
    "colab": {
      "provenance": [],
      "authorship_tag": "ABX9TyMDdUg/7XYSmOZgZen9Xh4B",
      "include_colab_link": true
    },
    "kernelspec": {
      "name": "python3",
      "display_name": "Python 3"
    },
    "language_info": {
      "name": "python"
    }
  },
  "cells": [
    {
      "cell_type": "markdown",
      "metadata": {
        "id": "view-in-github",
        "colab_type": "text"
      },
      "source": [
        "<a href=\"https://colab.research.google.com/github/shubhamkumar123456/Desing_of_Data_Structures/blob/main/Module2/lesson10.ipynb\" target=\"_parent\"><img src=\"https://colab.research.google.com/assets/colab-badge.svg\" alt=\"Open In Colab\"/></a>"
      ]
    },
    {
      "cell_type": "code",
      "execution_count": null,
      "metadata": {
        "id": "gnLocOzidXG_"
      },
      "outputs": [],
      "source": []
    },
    {
      "cell_type": "markdown",
      "source": [
        "Lesson 10: Evaluation of Postfix Expression\n",
        "🔶 Theory Explanation\n",
        "Postfix Expression: Also known as Reverse Polish Notation (RPN), where operators come after operands.\n",
        "Example:\n",
        "Infix → (A + B) becomes Postfix → AB+\n",
        "\n",
        "Why Postfix?\n",
        "\n",
        "Removes need for parentheses.\n",
        "\n",
        "Directly evaluated using stacks.\n",
        "\n",
        "🔶 Algorithm (Using Stack)\n",
        "Scan the expression left to right.\n",
        "\n",
        "If the symbol is an operand, push it to the stack.\n",
        "\n",
        "If the symbol is an operator:\n",
        "\n",
        "Pop top two elements from the stack.\n",
        "\n",
        "Apply the operator.\n",
        "\n",
        "Push result back into stack.\n",
        "\n",
        "Final result will be on top of stack.\n",
        "\n",
        "🔶 Example\n",
        "Postfix Expression: 23*54*+9-\n",
        "Step-by-step:"
      ],
      "metadata": {
        "id": "7ODMQjHSdcz8"
      }
    }
  ]
}