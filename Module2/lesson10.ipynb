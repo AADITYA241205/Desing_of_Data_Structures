{
  "nbformat": 4,
  "nbformat_minor": 0,
  "metadata": {
    "colab": {
      "provenance": [],
      "authorship_tag": "ABX9TyOZpZpvMCbtzyjLD7Ww8wjb",
      "include_colab_link": true
    },
    "kernelspec": {
      "name": "python3",
      "display_name": "Python 3"
    },
    "language_info": {
      "name": "python"
    }
  },
  "cells": [
    {
      "cell_type": "markdown",
      "metadata": {
        "id": "view-in-github",
        "colab_type": "text"
      },
      "source": [
        "<a href=\"https://colab.research.google.com/github/shubhamkumar123456/Desing_of_Data_Structures/blob/main/Module2/lesson10.ipynb\" target=\"_parent\"><img src=\"https://colab.research.google.com/assets/colab-badge.svg\" alt=\"Open In Colab\"/></a>"
      ]
    },
    {
      "cell_type": "code",
      "execution_count": null,
      "metadata": {
        "id": "gnLocOzidXG_"
      },
      "outputs": [],
      "source": []
    },
    {
      "cell_type": "markdown",
      "source": [
        "**Lesson 10: Evaluation of Postfix Expression**\n",
        "\n",
        "🔶 **Theory Explanation**\n",
        "Postfix Expression: Also known as Reverse Polish Notation (RPN), where operators come after operands.\n",
        "\n",
        "Example:\n",
        "Infix → (A + B) becomes Postfix → AB+\n",
        "\n",
        "Why Postfix?\n",
        "\n",
        "Removes need for parentheses.\n",
        "\n",
        "Directly evaluated using stacks.\n",
        "\n",
        "🔶 **Algorithm (Using Stack)**\n",
        "\n",
        "1)Scan the expression left to right.\n",
        "\n",
        "2)If the symbol is an operand, push it to the stack.\n",
        "\n",
        "3)If the symbol is an operator:\n",
        "\n",
        "    Pop top two elements from the stack.\n",
        "    Apply the operator.\n",
        "    Push result back into stack.\n",
        "\n",
        "Final result will be on top of stack.\n",
        "\n",
        "🔶 Example\n",
        "Postfix Expression: 23*54*+9-\n",
        "Step-by-step:"
      ],
      "metadata": {
        "id": "7ODMQjHSdcz8"
      }
    },
    {
      "cell_type": "code",
      "source": [
        "Push 2\n",
        "Push 3\n",
        "→ Multiply (2 * 3 = 6), push 6\n",
        "Push 5\n",
        "Push 4\n",
        "→ Multiply (5 * 4 = 20), push 20\n",
        "→ Add (6 + 20 = 26), push 26\n",
        "Push 9\n",
        "→ Subtract (26 - 9 = 17)\n",
        "Result = 17\n"
      ],
      "metadata": {
        "id": "AP3wKpJAmuxC"
      },
      "execution_count": null,
      "outputs": []
    },
    {
      "cell_type": "code",
      "source": [
        "#include <stdio.h>\n",
        "#include <ctype.h>\n",
        "#define SIZE 100\n",
        "\n",
        "int stack[SIZE], top = -1;\n",
        "\n",
        "void push(int val) {\n",
        "    top++;\n",
        "    stack[top] = val;\n",
        "}\n",
        "\n",
        "int pop() {\n",
        "    return stack[top--];\n",
        "}\n",
        "\n",
        "int evaluatePostfix(char exp[]) {\n",
        "    int i, a, b;\n",
        "    for (i = 0; exp[i] != '\\0'; i++) {\n",
        "        if (isdigit(exp[i])) {\n",
        "            push(exp[i] - '0');  //convert string number into number\n",
        "        } else {\n",
        "            b = pop();\n",
        "            a = pop();\n",
        "            switch (exp[i]) {\n",
        "                case '+': push(a + b); break;\n",
        "                case '-': push(a - b); break;\n",
        "                case '*': push(a * b); break;\n",
        "                case '/': push(a / b); break;\n",
        "            }\n",
        "        }\n",
        "    }\n",
        "    return pop();\n",
        "}\n",
        "\n",
        "int main() {\n",
        "    char exp[] = \"23*54*+9-\";\n",
        "    printf(\"Result: %d\", evaluatePostfix(exp));\n",
        "    return 0;\n",
        "}\n"
      ],
      "metadata": {
        "id": "_xZeWmmDm3oG"
      },
      "execution_count": null,
      "outputs": []
    }
  ]
}