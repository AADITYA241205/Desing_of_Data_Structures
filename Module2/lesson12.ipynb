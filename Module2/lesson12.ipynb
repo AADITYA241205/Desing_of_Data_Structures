{
  "nbformat": 4,
  "nbformat_minor": 0,
  "metadata": {
    "colab": {
      "provenance": [],
      "include_colab_link": true
    },
    "kernelspec": {
      "name": "python3",
      "display_name": "Python 3"
    },
    "language_info": {
      "name": "python"
    }
  },
  "cells": [
    {
      "cell_type": "markdown",
      "metadata": {
        "id": "view-in-github",
        "colab_type": "text"
      },
      "source": [
        "<a href=\"https://colab.research.google.com/github/anandchauhan21/Desing_of_Data_Structures/blob/main/Module2/lesson12.ipynb\" target=\"_parent\"><img src=\"https://colab.research.google.com/assets/colab-badge.svg\" alt=\"Open In Colab\"/></a>"
      ]
    },
    {
      "cell_type": "markdown",
      "source": [
        "# 📘 Lesson 12: Recursion – Tower of Hanoi\n",
        "\n",
        "## 🎯 Objectives:\n",
        "- Understand recursion through a classic problem: **Tower of Hanoi**\n",
        "- Break down complex problems into smaller recursive steps\n",
        "- Implement the logic in Python and C\n",
        "- Learn how function calls create a recursive call stack\n",
        "\n",
        "---\n",
        "\n",
        "## 🗼 Problem Statement:\n",
        "\n",
        "Tower of Hanoi is a puzzle where you move **n disks** from a **Source pole (A)** to a **Destination pole (C)** using an **Auxiliary pole (B)**, following these rules:\n",
        "\n",
        "1. Only one disk can be moved at a time\n",
        "2. Only the top disk can be moved\n",
        "3. No larger disk may be placed on top of a smaller one\n",
        "\n",
        "---\n",
        "\n",
        "## 🧠 Recursive Logic:\n",
        "\n",
        "To move `n` disks from A to C:\n",
        "1. Move `n-1` disks from A to B\n",
        "2. Move the nth disk from A to C\n",
        "3. Move `n-1` disks from B to C\n",
        "\n",
        "This pattern continues until `n = 1` (base case)\n",
        "\n",
        "Let’s implement it!\n"
      ],
      "metadata": {
        "id": "QQlwmKs3jA0r"
      }
    },
    {
      "cell_type": "code",
      "source": [
        "def hanoi(n, source, destination, auxiliary):\n",
        "    if n == 1:\n",
        "        print(f\"Move disk 1 from {source} to {destination}\")\n",
        "        return\n",
        "    hanoi(n - 1, source, auxiliary, destination)\n",
        "    print(f\"Move disk {n} from {source} to {destination}\")\n",
        "    hanoi(n - 1, auxiliary, destination, source)\n",
        "\n",
        "# 🔍 Test\n",
        "n_disks = 3\n",
        "print(f\"Steps to solve Tower of Hanoi for {n_disks} disks:\\n\")\n",
        "hanoi(n_disks, 'A', 'C', 'B')\n"
      ],
      "metadata": {
        "id": "ThXTS3kwSp5v"
      },
      "execution_count": null,
      "outputs": []
    },
    {
      "cell_type": "markdown",
      "source": [
        "---\n",
        "\n",
        "## 📊 Expected Output (for 3 disks):\n",
        "\n",
        "1. Move disk 1 from A to C  \n",
        "2. Move disk 2 from A to B  \n",
        "3. Move disk 1 from C to B  \n",
        "4. Move disk 3 from A to C  \n",
        "5. Move disk 1 from B to A  \n",
        "6. Move disk 2 from B to C  \n",
        "7. Move disk 1 from A to C\n",
        "\n",
        "---\n",
        "\n",
        "## 📘 Time Complexity:\n",
        "Tower of Hanoi has **exponential time complexity**:  \n",
        "T(n) = 2T(n−1) + 1 → **O(2ⁿ)**\n",
        "\n",
        "Each additional disk **doubles** the number of moves.\n"
      ],
      "metadata": {
        "id": "yVfcyTb3bzID"
      }
    },
    {
      "cell_type": "code",
      "source": [
        "c_code = \"\"\"\n",
        "#include <stdio.h>\n",
        "\n",
        "void hanoi(int n, char source, char destination, char auxiliary) {\n",
        "    if (n == 1) {\n",
        "        printf(\"Move disk 1 from %c to %c\\\\n\", source, destination);\n",
        "        return;\n",
        "    }\n",
        "    hanoi(n - 1, source, auxiliary, destination);\n",
        "    printf(\"Move disk %d from %c to %c\\\\n\", n, source, destination);\n",
        "    hanoi(n - 1, auxiliary, destination, source);\n",
        "}\n",
        "\n",
        "int main() {\n",
        "    int n = 3;\n",
        "    printf(\"Steps to solve Tower of Hanoi for %d disks:\\\\n\\\\n\", n);\n",
        "    hanoi(n, 'A', 'C', 'B');\n",
        "    return 0;\n",
        "}\n",
        "\"\"\"\n",
        "\n",
        "with open(\"lesson12_hanoi.c\", \"w\") as f:\n",
        "    f.write(c_code)\n"
      ],
      "metadata": {
        "id": "wWS8oEdwb3Qx"
      },
      "execution_count": null,
      "outputs": []
    },
    {
      "cell_type": "code",
      "source": [
        "!gcc lesson12_hanoi.c -o lesson12\n"
      ],
      "metadata": {
        "id": "mjJ5sDlXb6he"
      },
      "execution_count": null,
      "outputs": []
    },
    {
      "cell_type": "code",
      "source": [
        "!./lesson12\n"
      ],
      "metadata": {
        "id": "xql6fL1ib7-Y"
      },
      "execution_count": null,
      "outputs": []
    },
    {
      "cell_type": "markdown",
      "source": [
        "---\n",
        "\n",
        "## ✅ Summary\n",
        "\n",
        "- Tower of Hanoi illustrates **recursive thinking**\n",
        "- Base case: `n = 1` is solved directly\n",
        "- Recursive case: problem is broken into smaller sub-problems\n",
        "- Total moves: **2ⁿ − 1**\n",
        "\n",
        "---\n",
        "\n",
        "## 📘 Viva Questions:\n",
        "\n",
        "1. What is recursion?\n",
        "2. What is the base case in Tower of Hanoi?\n",
        "3. How many moves are required for n disks?\n",
        "4. What is the time complexity of Tower of Hanoi?\n",
        "\n",
        "⏭️ Next: **Lesson 13: Queues: Definition, Operations, Circular Queues**\n",
        "\n"
      ],
      "metadata": {
        "id": "tS0ZS4mXb-Cv"
      }
    },
    {
      "cell_type": "markdown",
      "source": [
        "**Lesson 12: Recursion:Tower of Hanoi**"
      ],
      "metadata": {
        "id": "Yivqh77FjCcn"
      }
    },
    {
      "cell_type": "markdown",
      "source": [
        "**What is Tower of Hanoi?**\n",
        "\n",
        "Tower of Hanoi is a mathematical puzzle involving three rods and N disks. The objective is to move all disks from the source rod to the destination rod, using an auxiliary rod, following these rules:\n",
        "\n",
        "    1)Only one disk can be moved at a time.\n",
        "    2)You can only move the top disk of a stack.\n",
        "    3)A larger disk cannot be placed on top of a smaller disk."
      ],
      "metadata": {
        "id": "TuACVnAsspql"
      }
    },
    {
      "cell_type": "markdown",
      "source": [
        "**Why is Recursion Needed?**\n",
        "\n",
        "Tower of Hanoi is a recursive problem by nature, because:\n",
        "\n",
        "    To move n disks, we need to:\n",
        "\n",
        "    Move n-1 disks to the auxiliary rod (sub-problem),\n",
        "\n",
        "    Move the nth disk directly,\n",
        "\n",
        "    Move n-1 disks again to the destination rod.\n",
        "\n",
        "Each step breaks down the same problem into a smaller version of itself, which is perfect for recursion."
      ],
      "metadata": {
        "id": "sbIqS9yFs-p1"
      }
    },
    {
      "cell_type": "markdown",
      "source": [
        "**Problem Logic (Recursive Strategy)**\n",
        "\n",
        "To move n disks from source (A) to destination (C) using auxiliary (B):\n",
        "\n",
        "Move n-1 disks from A → B using C.\n",
        "\n",
        "Move 1 disk from A → C.\n",
        "\n",
        "Move n-1 disks from B → C using A.\n",
        "\n",
        "This continues until n == 1, the base case."
      ],
      "metadata": {
        "id": "Gp-fMSFVtJps"
      }
    },
    {
      "cell_type": "markdown",
      "source": [
        "** Number of Moves**\n",
        "\n",
        "Minimum number of moves required = 2^n - 1\n",
        "\n",
        "Where n is the number of disks."
      ],
      "metadata": {
        "id": "e57igUxBtnhg"
      }
    },
    {
      "cell_type": "code",
      "source": [
        "#include <stdio.h>\n",
        "\n",
        "void towerOfHanoi(int n, char from_rod, char to_rod, char aux_rod) {\n",
        "    if (n == 1) {\n",
        "        // Base case: Only one disk, move it directly\n",
        "        printf(\"Move disk 1 from rod %c to rod %c\\n\", from_rod, to_rod);\n",
        "        return;\n",
        "    }\n",
        "\n",
        "    // Step 1: Move top n-1 disks from source to auxiliary\n",
        "    towerOfHanoi(n - 1, from_rod, aux_rod, to_rod);\n",
        "\n",
        "    // Step 2: Move nth disk to destination\n",
        "    printf(\"Move disk %d from rod %c to rod %c\\n\", n, from_rod, to_rod);\n",
        "\n",
        "    // Step 3: Move n-1 disks from auxiliary to destination\n",
        "    towerOfHanoi(n - 1, aux_rod, to_rod, from_rod);\n",
        "}\n",
        "\n",
        "int main() {\n",
        "    int n; // Number of disks\n",
        "    printf(\"Enter number of disks: \");\n",
        "    scanf(\"%d\", &n);\n",
        "\n",
        "    printf(\"\\nSteps to solve Tower of Hanoi:\\n\\n\");\n",
        "    towerOfHanoi(n, 'A', 'C', 'B'); // A = source, C = destination, B = auxiliary\n",
        "\n",
        "    return 0;\n",
        "}\n"
      ],
      "metadata": {
        "id": "oGxn7OI2tvb9"
      },
      "execution_count": null,
      "outputs": []
    }
  ]
}