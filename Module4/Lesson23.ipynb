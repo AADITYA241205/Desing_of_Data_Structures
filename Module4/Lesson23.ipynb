{
  "nbformat": 4,
  "nbformat_minor": 0,
  "metadata": {
    "colab": {
      "provenance": [],
      "name": "Lesson23.ipynb",
      "include_colab_link": true
    },
    "kernelspec": {
      "name": "python3",
      "display_name": "Python 3"
    },
    "language_info": {
      "name": "python"
    }
  },
  "cells": [
    {
      "cell_type": "markdown",
      "metadata": {
        "id": "view-in-github",
        "colab_type": "text"
      },
      "source": [
        "<a href=\"https://colab.research.google.com/github/anandchauhan21/Desing_of_Data_Structures/blob/main/Module4/Lesson23.ipynb\" target=\"_parent\"><img src=\"https://colab.research.google.com/assets/colab-badge.svg\" alt=\"Open In Colab\"/></a>"
      ]
    },
    {
      "cell_type": "markdown",
      "source": [
        "# 📚 Lesson 23: Radix Sort\n",
        "\n",
        "## 🎯 Objective:\n",
        "Learn and implement **Radix Sort**, a non-comparison-based sorting algorithm.\n",
        "\n",
        "---\n",
        "\n",
        "## 🧠 Concept:\n",
        "- Radix Sort sorts numbers **digit by digit**, starting from the **least significant digit (LSD)** to the **most significant digit (MSD)**.\n",
        "- It uses a **stable subroutine** (like Counting Sort) for each digit.\n",
        "\n",
        "---\n",
        "\n",
        "## ⏱️ Time Complexity:\n",
        "- Best / Average / Worst: **O(nk)**  \n",
        "  - n = number of elements  \n",
        "  - k = number of digits in the maximum number\n",
        "- Space: **O(n + k)**\n",
        "\n",
        "---\n",
        "\n",
        "## 📌 Key Points:\n",
        "- Works best when the range of digits is not too large.  \n",
        "- Useful for integers, telephone numbers, roll numbers, etc.  \n",
        "- Stable algorithm but not in-place (extra memory required).\n"
      ],
      "metadata": {
        "id": "qB4WbqgygWcI"
      }
    },
    {
      "cell_type": "markdown",
      "source": [
        "## python"
      ],
      "metadata": {
        "id": "Wb58qI4chCYn"
      }
    },
    {
      "cell_type": "code",
      "source": [
        "# 🐍 Radix Sort in Python\n",
        "\n",
        "def counting_sort(arr, exp):\n",
        "    n = len(arr)\n",
        "    output = [0] * n\n",
        "    count = [0] * 10  # base 10 (digits 0-9)\n",
        "\n",
        "    # Count occurrences\n",
        "    for i in range(n):\n",
        "        index = (arr[i] // exp) % 10\n",
        "        count[index] += 1\n",
        "\n",
        "    # Cumulative count\n",
        "    for i in range(1, 10):\n",
        "        count[i] += count[i-1]\n",
        "\n",
        "    # Build output array\n",
        "    i = n - 1\n",
        "    while i >= 0:\n",
        "        index = (arr[i] // exp) % 10\n",
        "        output[count[index] - 1] = arr[i]\n",
        "        count[index] -= 1\n",
        "        i -= 1\n",
        "\n",
        "    # Copy to arr\n",
        "    for i in range(n):\n",
        "        arr[i] = output[i]\n",
        "\n",
        "def radix_sort(arr):\n",
        "    max_num = max(arr)\n",
        "    exp = 1\n",
        "    while max_num // exp > 0:\n",
        "        counting_sort(arr, exp)\n",
        "        exp *= 10\n",
        "    return arr\n",
        "\n",
        "# 🔍 Test\n",
        "data = [170, 45, 75, 90, 802, 24, 2, 66]\n",
        "print(\"Original:\", data)\n",
        "print(\"Radix Sort:\", radix_sort(data.copy()))\n"
      ],
      "metadata": {
        "id": "lL4OvbrsgYFv",
        "outputId": "ca23c1ed-d6ca-4aa9-b7b2-ae64717cec47",
        "colab": {
          "base_uri": "https://localhost:8080/"
        }
      },
      "execution_count": 1,
      "outputs": [
        {
          "output_type": "stream",
          "name": "stdout",
          "text": [
            "Original: [170, 45, 75, 90, 802, 24, 2, 66]\n",
            "Radix Sort: [2, 24, 45, 66, 75, 90, 170, 802]\n"
          ]
        }
      ]
    },
    {
      "cell_type": "markdown",
      "source": [
        "## C"
      ],
      "metadata": {
        "id": "x9YjNsmhhFYb"
      }
    },
    {
      "cell_type": "code",
      "source": [
        "c_code = \"\"\"\n",
        "#include <stdio.h>\n",
        "\n",
        "int get_max(int arr[], int n) {\n",
        "    int max = arr[0];\n",
        "    for (int i=1; i<n; i++)\n",
        "        if (arr[i] > max)\n",
        "            max = arr[i];\n",
        "    return max;\n",
        "}\n",
        "\n",
        "void counting_sort(int arr[], int n, int exp) {\n",
        "    int output[n];\n",
        "    int count[10] = {0};\n",
        "\n",
        "    for (int i=0; i<n; i++)\n",
        "        count[(arr[i]/exp)%10]++;\n",
        "\n",
        "    for (int i=1; i<10; i++)\n",
        "        count[i] += count[i-1];\n",
        "\n",
        "    for (int i=n-1; i>=0; i--) {\n",
        "        output[count[(arr[i]/exp)%10] - 1] = arr[i];\n",
        "        count[(arr[i]/exp)%10]--;\n",
        "    }\n",
        "\n",
        "    for (int i=0; i<n; i++)\n",
        "        arr[i] = output[i];\n",
        "}\n",
        "\n",
        "void radix_sort(int arr[], int n) {\n",
        "    int m = get_max(arr, n);\n",
        "    for (int exp=1; m/exp>0; exp*=10)\n",
        "        counting_sort(arr, n, exp);\n",
        "}\n",
        "\n",
        "void print_array(int arr[], int n) {\n",
        "    for (int i=0; i<n; i++)\n",
        "        printf(\"%d \", arr[i]);\n",
        "    printf(\"\\\\n\");\n",
        "}\n",
        "\n",
        "int main() {\n",
        "    int arr[] = {170, 45, 75, 90, 802, 24, 2, 66};\n",
        "    int n = sizeof(arr)/sizeof(arr[0]);\n",
        "\n",
        "    printf(\"Original: \"); print_array(arr, n);\n",
        "    radix_sort(arr, n);\n",
        "    printf(\"Radix Sort: \"); print_array(arr, n);\n",
        "\n",
        "    return 0;\n",
        "}\n",
        "\"\"\"\n",
        "\n",
        "with open(\"lesson23.c\", \"w\") as f:\n",
        "    f.write(c_code)\n",
        "\n",
        "!gcc lesson23.c -o lesson23_c && ./lesson23_c\n"
      ],
      "metadata": {
        "id": "5ev6JDkbgaz4",
        "outputId": "51188d17-9b68-4e81-ba43-79472f02570d",
        "colab": {
          "base_uri": "https://localhost:8080/"
        }
      },
      "execution_count": 2,
      "outputs": [
        {
          "output_type": "stream",
          "name": "stdout",
          "text": [
            "Original: 170 45 75 90 802 24 2 66 \n",
            "Radix Sort: 2 24 45 66 75 90 170 802 \n"
          ]
        }
      ]
    },
    {
      "cell_type": "markdown",
      "source": [
        "## C++"
      ],
      "metadata": {
        "id": "mCFj3Mn8hHye"
      }
    },
    {
      "cell_type": "code",
      "source": [
        "cpp_code = \"\"\"\n",
        "#include <iostream>\n",
        "#include <algorithm>\n",
        "using namespace std;\n",
        "\n",
        "int get_max(int arr[], int n) {\n",
        "    int max_val = arr[0];\n",
        "    for (int i=1; i<n; i++)\n",
        "        if (arr[i] > max_val)\n",
        "            max_val = arr[i];\n",
        "    return max_val;\n",
        "}\n",
        "\n",
        "void counting_sort(int arr[], int n, int exp) {\n",
        "    int output[n];\n",
        "    int count[10] = {0};\n",
        "\n",
        "    for (int i=0; i<n; i++)\n",
        "        count[(arr[i]/exp)%10]++;\n",
        "\n",
        "    for (int i=1; i<10; i++)\n",
        "        count[i] += count[i-1];\n",
        "\n",
        "    for (int i=n-1; i>=0; i--) {\n",
        "        output[count[(arr[i]/exp)%10] - 1] = arr[i];\n",
        "        count[(arr[i]/exp)%10]--;\n",
        "    }\n",
        "\n",
        "    for (int i=0; i<n; i++)\n",
        "        arr[i] = output[i];\n",
        "}\n",
        "\n",
        "void radix_sort(int arr[], int n) {\n",
        "    int m = get_max(arr, n);\n",
        "    for (int exp=1; m/exp>0; exp*=10)\n",
        "        counting_sort(arr, n, exp);\n",
        "}\n",
        "\n",
        "void print_array(int arr[], int n) {\n",
        "    for (int i=0; i<n; i++)\n",
        "        cout << arr[i] << \" \";\n",
        "    cout << endl;\n",
        "}\n",
        "\n",
        "int main() {\n",
        "    int arr[] = {170, 45, 75, 90, 802, 24, 2, 66};\n",
        "    int n = sizeof(arr)/sizeof(arr[0]);\n",
        "\n",
        "    cout << \"Original: \"; print_array(arr, n);\n",
        "    radix_sort(arr, n);\n",
        "    cout << \"Radix Sort: \"; print_array(arr, n);\n",
        "\n",
        "    return 0;\n",
        "}\n",
        "\"\"\"\n",
        "\n",
        "with open(\"lesson23.cpp\", \"w\") as f:\n",
        "    f.write(cpp_code)\n",
        "\n",
        "!g++ lesson23.cpp -o lesson23_cpp && ./lesson23_cpp\n"
      ],
      "metadata": {
        "id": "tOMt4XqIggJB",
        "outputId": "a56115e0-5bb3-45b3-dc89-8855863d22fa",
        "colab": {
          "base_uri": "https://localhost:8080/"
        }
      },
      "execution_count": 3,
      "outputs": [
        {
          "output_type": "stream",
          "name": "stdout",
          "text": [
            "Original: 170 45 75 90 802 24 2 66 \n",
            "Radix Sort: 2 24 45 66 75 90 170 802 \n"
          ]
        }
      ]
    },
    {
      "cell_type": "markdown",
      "source": [
        "## JAVA"
      ],
      "metadata": {
        "id": "xLPywawjhPUK"
      }
    },
    {
      "cell_type": "code",
      "source": [
        "java_code = \"\"\"\n",
        "public class Lesson23Radix {\n",
        "    static int getMax(int arr[]) {\n",
        "        int max = arr[0];\n",
        "        for (int i=1; i<arr.length; i++)\n",
        "            if (arr[i] > max)\n",
        "                max = arr[i];\n",
        "        return max;\n",
        "    }\n",
        "\n",
        "    static void countingSort(int arr[], int exp) {\n",
        "        int n = arr.length;\n",
        "        int output[] = new int[n];\n",
        "        int count[] = new int[10];\n",
        "\n",
        "        for (int i=0; i<n; i++)\n",
        "            count[(arr[i]/exp)%10]++;\n",
        "\n",
        "        for (int i=1; i<10; i++)\n",
        "            count[i] += count[i-1];\n",
        "\n",
        "        for (int i=n-1; i>=0; i--) {\n",
        "            output[count[(arr[i]/exp)%10] - 1] = arr[i];\n",
        "            count[(arr[i]/exp)%10]--;\n",
        "        }\n",
        "\n",
        "        for (int i=0; i<n; i++)\n",
        "            arr[i] = output[i];\n",
        "    }\n",
        "\n",
        "    static void radixSort(int arr[]) {\n",
        "        int m = getMax(arr);\n",
        "        for (int exp=1; m/exp>0; exp*=10)\n",
        "            countingSort(arr, exp);\n",
        "    }\n",
        "\n",
        "    static void printArray(int arr[]) {\n",
        "        for (int num : arr)\n",
        "            System.out.print(num + \" \");\n",
        "        System.out.println();\n",
        "    }\n",
        "\n",
        "    public static void main(String[] args) {\n",
        "        int arr[] = {170, 45, 75, 90, 802, 24, 2, 66};\n",
        "\n",
        "        System.out.print(\"Original: \");\n",
        "        printArray(arr);\n",
        "\n",
        "        radixSort(arr);\n",
        "\n",
        "        System.out.print(\"Radix Sort: \");\n",
        "        printArray(arr);\n",
        "    }\n",
        "}\n",
        "\"\"\"\n",
        "\n",
        "with open(\"Lesson23Radix.java\", \"w\") as f:\n",
        "    f.write(java_code)\n",
        "\n",
        "!javac Lesson23Radix.java\n",
        "!java Lesson23Radix\n"
      ],
      "metadata": {
        "id": "1g4TrWwYgi3t",
        "outputId": "c4f216b8-4c14-4925-9f8d-5592386eec8b",
        "colab": {
          "base_uri": "https://localhost:8080/"
        }
      },
      "execution_count": 4,
      "outputs": [
        {
          "output_type": "stream",
          "name": "stdout",
          "text": [
            "Original: 170 45 75 90 802 24 2 66 \n",
            "Radix Sort: 2 24 45 66 75 90 170 802 \n"
          ]
        }
      ]
    },
    {
      "cell_type": "markdown",
      "source": [
        "---\n",
        "\n",
        "## 📌 Summary – Lesson 23: Radix Sort\n",
        "\n",
        "- **Radix Sort** sorts numbers digit by digit using a stable counting sort.\n",
        "- Works best for integers and uniformly sized keys.\n",
        "- Time complexity: O(nk), where k is number of digits.\n",
        "- Stable but requires extra memory.\n",
        "\n",
        "---\n",
        "\n",
        "## ✅ Viva Questions:\n",
        "1. Why does Radix Sort require a stable subroutine?\n",
        "2. What is the role of Counting Sort in Radix Sort?\n",
        "3. Can Radix Sort be applied to negative numbers?\n",
        "4. Compare Radix Sort with Quick Sort and Merge Sort.\n",
        "\n",
        "---\n",
        "\n"
      ],
      "metadata": {
        "id": "wG0EZUOVgmeF"
      }
    }
  ]
}