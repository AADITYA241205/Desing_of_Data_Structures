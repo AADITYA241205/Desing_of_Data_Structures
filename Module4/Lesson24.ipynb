{
  "nbformat": 4,
  "nbformat_minor": 0,
  "metadata": {
    "colab": {
      "provenance": [],
      "name": "Lesson24.ipynb",
      "include_colab_link": true
    },
    "kernelspec": {
      "name": "python3",
      "display_name": "Python 3"
    },
    "language_info": {
      "name": "python"
    }
  },
  "cells": [
    {
      "cell_type": "markdown",
      "metadata": {
        "id": "view-in-github",
        "colab_type": "text"
      },
      "source": [
        "<a href=\"https://colab.research.google.com/github/anandchauhan21/Desing_of_Data_Structures/blob/main/Module4/Lesson24.ipynb\" target=\"_parent\"><img src=\"https://colab.research.google.com/assets/colab-badge.svg\" alt=\"Open In Colab\"/></a>"
      ]
    },
    {
      "cell_type": "markdown",
      "source": [
        "# 📚 Lesson 24: Review & Practice Problems\n",
        "\n",
        "## 🎯 Objective:\n",
        "- Revise **searching & sorting algorithms** learned so far.  \n",
        "- Practice with hands-on coding problems.\n",
        "\n",
        "---\n",
        "\n",
        "## 🔑 Topics Covered:\n",
        "- **Searching:** Linear Search, Binary Search, Interpolation Search  \n",
        "- **Sorting:** Selection, Insertion, Bubble, Merge, Quick, Radix  \n",
        "\n",
        "---\n",
        "\n",
        "## 🧩 Practice Approach:\n",
        "- Solve small **problem statements** using multiple algorithms.  \n",
        "- Compare **time complexities** and understand trade-offs.\n",
        "\n",
        "\n",
        "---\n",
        "\n",
        "## ⏱️ Complexity Recap:\n",
        "- Linear Search → O(n)  \n",
        "- Binary Search → O(log n) (sorted input only)  \n",
        "- Quick Sort → Avg O(n log n), Worst O(n²)  \n",
        "- Merge Sort → Always O(n log n), extra space  \n",
        "- Radix Sort → O(nk), good for integers  \n",
        "\n",
        "---\n",
        "\n"
      ],
      "metadata": {
        "id": "_vK2iVDdh78P"
      }
    },
    {
      "cell_type": "markdown",
      "source": [
        "## python"
      ],
      "metadata": {
        "id": "sWRdk61kiLly"
      }
    },
    {
      "cell_type": "code",
      "source": [
        "# 🐍 Practice Problems in Python\n",
        "\n",
        "# 1. Linear Search\n",
        "def linear_search(arr, key):\n",
        "    for i in range(len(arr)):\n",
        "        if arr[i] == key:\n",
        "            return i\n",
        "    return -1\n",
        "\n",
        "# 2. Binary Search\n",
        "def binary_search(arr, key):\n",
        "    low, high = 0, len(arr)-1\n",
        "    while low <= high:\n",
        "        mid = (low+high)//2\n",
        "        if arr[mid] == key:\n",
        "            return mid\n",
        "        elif arr[mid] < key:\n",
        "            low = mid+1\n",
        "        else:\n",
        "            high = mid-1\n",
        "    return -1\n",
        "\n",
        "# 3. Quick Sort\n",
        "def quick_sort(arr):\n",
        "    if len(arr) <= 1: return arr\n",
        "    pivot = arr[len(arr)//2]\n",
        "    left = [x for x in arr if x < pivot]\n",
        "    mid = [x for x in arr if x == pivot]\n",
        "    right = [x for x in arr if x > pivot]\n",
        "    return quick_sort(left) + mid + quick_sort(right)\n",
        "\n",
        "# 4. Merge Sort\n",
        "def merge_sort(arr):\n",
        "    if len(arr) <= 1: return arr\n",
        "    mid = len(arr)//2\n",
        "    L, R = arr[:mid], arr[mid:]\n",
        "    return merge(merge_sort(L), merge_sort(R))\n",
        "\n",
        "def merge(L, R):\n",
        "    result = []\n",
        "    i = j = 0\n",
        "    while i < len(L) and j < len(R):\n",
        "        if L[i] < R[j]:\n",
        "            result.append(L[i]); i += 1\n",
        "        else:\n",
        "            result.append(R[j]); j += 1\n",
        "    result.extend(L[i:]); result.extend(R[j:])\n",
        "    return result\n",
        "\n",
        "\n",
        "# 🔍 Test Cases\n",
        "arr = [34, 7, 23, 32, 5, 62]\n",
        "print(\"Original:\", arr)\n",
        "\n",
        "print(\"Linear Search (find 23):\", linear_search(arr, 23))\n",
        "print(\"Binary Search (sorted, find 32):\", binary_search(sorted(arr), 32))\n",
        "\n",
        "print(\"Quick Sort:\", quick_sort(arr.copy()))\n",
        "print(\"Merge Sort:\", merge_sort(arr.copy()))\n"
      ],
      "metadata": {
        "id": "x04p_Ppph7To"
      },
      "execution_count": null,
      "outputs": []
    },
    {
      "cell_type": "markdown",
      "source": [
        "## C"
      ],
      "metadata": {
        "id": "DfKCeoUtiJap"
      }
    },
    {
      "cell_type": "code",
      "source": [
        "c_code = \"\"\"\n",
        "#include <stdio.h>\n",
        "\n",
        "// Linear Search\n",
        "int linear_search(int arr[], int n, int key) {\n",
        "    for (int i=0; i<n; i++)\n",
        "        if (arr[i] == key) return i;\n",
        "    return -1;\n",
        "}\n",
        "\n",
        "int main() {\n",
        "    int arr[] = {34, 7, 23, 32, 5, 62};\n",
        "    int n = sizeof(arr)/sizeof(arr[0]);\n",
        "    int key = 23;\n",
        "\n",
        "    int index = linear_search(arr, n, key);\n",
        "    if (index != -1)\n",
        "        printf(\"Linear Search: Key %d found at index %d\\\\n\", key, index);\n",
        "    else\n",
        "        printf(\"Key not found\\\\n\");\n",
        "\n",
        "    return 0;\n",
        "}\n",
        "\"\"\"\n",
        "\n",
        "with open(\"lesson24.c\", \"w\") as f:\n",
        "    f.write(c_code)\n",
        "\n",
        "!gcc lesson24.c -o lesson24_c && ./lesson24_c\n"
      ],
      "metadata": {
        "id": "sATHjyMRiA29"
      },
      "execution_count": null,
      "outputs": []
    },
    {
      "cell_type": "markdown",
      "source": [
        "## C++\n"
      ],
      "metadata": {
        "id": "0ADUDuJfiB5y"
      }
    },
    {
      "cell_type": "code",
      "source": [
        "cpp_code = \"\"\"\n",
        "#include <iostream>\n",
        "using namespace std;\n",
        "\n",
        "// Binary Search\n",
        "int binary_search(int arr[], int n, int key) {\n",
        "    int low=0, high=n-1;\n",
        "    while(low<=high){\n",
        "        int mid=(low+high)/2;\n",
        "        if(arr[mid]==key) return mid;\n",
        "        else if(arr[mid]<key) low=mid+1;\n",
        "        else high=mid-1;\n",
        "    }\n",
        "    return -1;\n",
        "}\n",
        "\n",
        "int main() {\n",
        "    int arr[] = {5, 7, 23, 32, 34, 62};\n",
        "    int n = sizeof(arr)/sizeof(arr[0]);\n",
        "    int key = 32;\n",
        "\n",
        "    int index = binary_search(arr, n, key);\n",
        "    if(index != -1) cout << \"Binary Search: Key \" << key << \" found at index \" << index << endl;\n",
        "    else cout << \"Key not found\" << endl;\n",
        "\n",
        "    return 0;\n",
        "}\n",
        "\"\"\"\n",
        "\n",
        "with open(\"lesson24.cpp\", \"w\") as f:\n",
        "    f.write(cpp_code)\n",
        "\n",
        "!g++ lesson24.cpp -o lesson24_cpp && ./lesson24_cpp\n"
      ],
      "metadata": {
        "id": "MWdn75n8iEJ4"
      },
      "execution_count": null,
      "outputs": []
    },
    {
      "cell_type": "markdown",
      "source": [
        "## JAVA"
      ],
      "metadata": {
        "id": "x98upFmZiPLQ"
      }
    },
    {
      "cell_type": "code",
      "source": [
        "java_code = \"\"\"\n",
        "public class Lesson24Practice {\n",
        "    // Quick Sort\n",
        "    static void quickSort(int arr[], int low, int high){\n",
        "        if(low < high){\n",
        "            int pi = partition(arr, low, high);\n",
        "            quickSort(arr, low, pi-1);\n",
        "            quickSort(arr, pi+1, high);\n",
        "        }\n",
        "    }\n",
        "\n",
        "    static int partition(int arr[], int low, int high){\n",
        "        int pivot = arr[high];\n",
        "        int i = (low-1);\n",
        "        for(int j=low; j<high; j++){\n",
        "            if(arr[j] <= pivot){\n",
        "                i++;\n",
        "                int temp=arr[i]; arr[i]=arr[j]; arr[j]=temp;\n",
        "            }\n",
        "        }\n",
        "        int temp=arr[i+1]; arr[i+1]=arr[high]; arr[high]=temp;\n",
        "        return i+1;\n",
        "    }\n",
        "\n",
        "    static void printArray(int arr[]){\n",
        "        for(int n : arr) System.out.print(n+\" \");\n",
        "        System.out.println();\n",
        "    }\n",
        "\n",
        "    public static void main(String[] args){\n",
        "        int arr[] = {34, 7, 23, 32, 5, 62};\n",
        "        System.out.print(\"Original: \"); printArray(arr);\n",
        "        quickSort(arr, 0, arr.length-1);\n",
        "        System.out.print(\"Quick Sort: \"); printArray(arr);\n",
        "    }\n",
        "}\n",
        "\"\"\"\n",
        "\n",
        "with open(\"Lesson24Practice.java\", \"w\") as f:\n",
        "    f.write(java_code)\n",
        "\n",
        "!javac Lesson24Practice.java\n",
        "!java Lesson24Practice\n"
      ],
      "metadata": {
        "id": "lJNW7Ha1iRJD"
      },
      "execution_count": null,
      "outputs": []
    },
    {
      "cell_type": "markdown",
      "source": [
        "---\n",
        "\n",
        "## 📌 Summary – Lesson 24: Review & Practice Problems\n",
        "\n",
        "- We revised **searching algorithms**: Linear, Binary, Interpolation.  \n",
        "- We revised **sorting algorithms**: Selection, Insertion, Bubble, Quick, Merge, Radix.  \n",
        "- Practiced problems in Python, C, C++, and Java.  \n",
        "- Compared efficiency and use cases.\n",
        "\n",
        "---\n",
        "\n",
        "## ✅ Viva Questions:\n",
        "1. Which searching algorithm works best for sorted data?  \n",
        "2. Why is Quick Sort preferred in practice over Merge Sort sometimes?  \n",
        "3. What is the difference between stable and unstable sorts?  \n",
        "4. Which algorithms are suitable for linked lists?  \n",
        "\n",
        "---\n"
      ],
      "metadata": {
        "id": "TXnPegtwiYXC"
      }
    }
  ]
}