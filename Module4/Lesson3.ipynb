{
 "nbformat": 4,
 "nbformat_minor": 0,
 "metadata": {
   "colab": {"provenance": [], "include_colab_link": true},
   "kernelspec": {"name": "python3", "display_name": "Python 3"},
   "language_info": {"name": "python"}
 },
 "cells": [
  {
   "cell_type": "markdown",
   "metadata": {},
   "source": [
    "<a href=\"https://colab.research.google.com/github/anandchauhan21/Desing_of_Data_Structures/blob/main/Module4/Lesson20.ipynb\" target=\"_parent\"><img src=\"https://colab.research.google.com/assets/colab-badge.svg\" alt=\"Open In Colab\"/></a>"
   ]
  },
  {
   "cell_type": "markdown",
   "metadata": {},
   "source": [
    "# 📚 Lesson 20: Interpolation Search\n",
    "\n",
    "## 🎯 Objective:\n",
    "Learn the concept, working, advantages, and implementation of **Interpolation Search** for ordered datasets.\n",
    "\n",
    "---\n",
    "## 🧠 Concept:\n",
    "- **Interpolation Search** is an improvement over Binary Search for *uniformly distributed sorted data*.\n",
    "- Instead of always checking the middle element, it estimates the probable position of the key using the key's value.\n",
    "\n",
    "📌 **Key Insight:** If the data is uniformly distributed, the index of the desired element can be predicted proportionally.\n",
    "\n",
    "---\n",
    "## 📐 Formula:\n",
    "Let:\n",
    "- `low` = starting index\n",
    "- `high` = last index\n",
    "- `key` = value to be searched\n",
    "- `arr` = sorted array\n",
    "\n",
    "Formula for position estimation:\n",
    "\n",
    "```
    "pos = low + ((key - arr[low]) * (high - low) // (arr[high] - arr[low]))\n",
    "```\n",
    "\n",
    "---\n",
    "## 🔄 Step-by-Step Working:\n",
    "1. Start with `low = 0` and `high = n-1`.\n",
    "2. Check if `key` lies between `arr[low]` and `arr[high]`.\n",
    "3. Use formula to estimate `pos`.\n",
    "4. If `arr[pos] == key` → return position.\n",
    "5. If `arr[pos] < key` → search in upper part (`low = pos + 1`).\n",
    "6. Else → search in lower part (`high = pos - 1`).\n",
    "7. Repeat until found or `low > high`.\n",
    "\n",
    "---\n",
    "## ⏱ Time Complexity:\n",
    "- **Best case:** O(1) → found directly.\n",
    "- **Average case:** O(log log n) for uniform distribution.\n",
    "- **Worst case:** O(n) for skewed data.\n",
    "\n",
    "---\n",
    "## 🔄 Comparison:\n",
    "| Feature | Binary Search | Interpolation Search |\n",
    "|---------|--------------|----------------------|\n",
    "| Approach | Middle element | Estimated position |\n",
    "| Best case | O(1) | O(1) |\n",
    "| Average case | O(log n) | O(log log n) |\n",
    "| Worst case | O(log n) | O(n) |\n",
    "| Works best on | Any sorted array | Uniformly distributed sorted array |\n",
    "\n",
    "---\n",
    "## ⚡ When to Use Which?\n",
    "- If distribution is unknown or non-uniform → **Binary Search**\n",
    "- If data is uniformly distributed → **Interpolation Search** is faster.\n"
   ]
  },
  {
   "cell_type": "markdown",
   "metadata": {},
   "source": ["## 🐍 Python Implementation of Binary Search"]
  },
  {
   "cell_type": "code",
   "metadata": {},
   "source": [
    "def binary_search(arr, key):\n",
    "    low, high = 0, len(arr) - 1\n",
    "    while low <= high:\n",
    "        mid = (low + high) // 2\n",
    "        if arr[mid] == key:\n",
    "            return mid\n",
    "        elif arr[mid] < key:\n",
    "            low = mid + 1\n",
    "        else:\n",
    "            high = mid - 1\n",
    "    return -1\n",
    "\n",
    "# Test\n",
    "arr = [10, 20, 30, 40, 50, 60, 70]\n",
    "print(\"Binary Search - Key 40 Index:\", binary_search(arr, 40))"
   ]
  },
  {
   "cell_type": "markdown",
   "metadata": {},
   "source": ["## 🐍 Python Implementation of Interpolation Search"]
  },
  {
   "cell_type": "code",
   "metadata": {},
   "source": [
    "def interpolation_search(arr, key):\n",
    "    low, high = 0, len(arr) - 1\n",
    "    while low <= high and arr[low] <= key <= arr[high]:\n",
    "        if arr[high] == arr[low]:  # Prevent division by zero\n",
    "            if arr[low] == key:\n",
    "                return low\n",
    "            return -1\n",
    "        pos = low + ((key - arr[low]) * (high - low) // (arr[high] - arr[low]))\n",
    "        if arr[pos] == key:\n",
    "            return pos\n",
    "        elif arr[pos] < key:\n",
    "            low = pos + 1\n",
    "        else:\n",
    "            high = pos - 1\n",
    "    return -1\n",
    "\n",
    "# Test\n",
    "print(\"Interpolation Search - Key 40 Index:\", interpolation_search(arr, 40))"
   ]
  },
  {
   "cell_type": "markdown",
   "metadata": {},
   "source": ["## 💻 C Implementation"]
  },
  {
   "cell_type": "code",
   "metadata": {},
   "source": [
    "c_code = \"\"\"\n",
    "#include <stdio.h>\n",
    "int interpolation_search(int arr[], int n, int key) {\n",
    "    int low = 0, high = n - 1;\n",
    "    while (low <= high && key >= arr[low] && key <= arr[high]) {\n",
    "        if (arr[high] == arr[low]) {\n",
    "            if (arr[low] == key) return low;\n",
    "            return -1;\n",
    "        }\n",
    "        int pos = low + ((key - arr[low]) * (high - low) / (arr[high] - arr[low]));\n",
    "        if (arr[pos] == key) return pos;\n",
    "        else if (arr[pos] < key) low = pos + 1; else high = pos - 1;\n",
    "    }\n",
    "    return -1;\n",
    "}\n",
    "int main() {\n",
    "    int arr[] = {10, 20, 30, 40, 50, 60, 70};\n",
    "    int n = sizeof(arr)/sizeof(arr[0]);\n",
    "    int idx = interpolation_search(arr, n, 40);\n",
    "    if (idx != -1) printf(\"Found at index %d\\\\n\", idx);\n",
    "    else printf(\"Not found\\\\n\");\n",
    "}\n",
    "\"\"\"\n",
    "with open(\"lesson20.c\", \"w\") as f: f.write(c_code)\n",
    "!gcc lesson20.c -o lesson20 && ./lesson20"
   ]
  },
  {
   "cell_type": "markdown",
   "metadata": {},
   "source": ["## ☕ Java Implementation"]
  },
  {
   "cell_type": "code",
   "metadata": {},
   "source": [
    "java_code = \"\"\"\n",
    "public class Lesson20Interpolation {\n",
    "    public static int interpolationSearch(int[] arr, int key) {\n",
    "        int low = 0, high = arr.length - 1;\n",
    "        while (low <= high && key >= arr[low] && key <= arr[high]) {\n",
    "            if (arr[high] == arr[low]) {\n",
    "                if (arr[low] == key) return low; else return -1;\n",
    "            }\n",
    "            int pos = low + ((key - arr[low]) * (high - low) / (arr[high] - arr[low]));\n",
    "            if (arr[pos] == key) return pos;\n",
    "            else if (arr[pos] < key) low = pos + 1; else high = pos - 1;\n",
    "        }\n",
    "        return -1;\n",
    "    }\n",
    "    public static void main(String[] args) {\n",
    "        int[] arr = {10, 20, 30, 40, 50, 60, 70};\n",
    "        int idx = interpolationSearch(arr, 40);\n",
    "        if (idx != -1) System.out.println(\"Found at index: \" + idx);\n",
    "        else System.out.println(\"Not found\");\n",
    "    }\n",
    "}\n",
    "\"\"\"\n",
    "with open(\"Lesson20Interpolation.java\", \"w\") as f: f.write(java_code)\n",
    "!javac Lesson20Interpolation.java && java Lesson20Interpolation"
   ]
  },
  {
   "cell_type": "markdown",
   "metadata": {},
   "source": [
    "## ✅ Summary\n",
    "- Works only on **sorted** data.\n",
    "- Performs better than binary search for **uniformly distributed** data.\n",
    "- Worst-case performance can be poor for skewed datasets.\n",
    "\n",
    "## 📘 Viva Questions\n",
    "1️⃣ What is the principle behind Interpolation Search?\n",
    "2️⃣ Why can it be faster than Binary Search?\n",
    "3️⃣ On what kind of datasets does it perform poorly?\n",
    "4️⃣ What is the average-case complexity?\n",
    "5️⃣ What happens if all elements are the same?\n"
   ]
  }
 ]
}
