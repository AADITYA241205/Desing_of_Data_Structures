{
  "nbformat": 4,
  "nbformat_minor": 0,
  "metadata": {
    "colab": {
      "provenance": [],
      "name": "Lesson25.ipynb",
      "include_colab_link": true
    },
    "kernelspec": {
      "name": "python3",
      "display_name": "Python 3"
    },
    "language_info": {
      "name": "python"
    }
  },
  "cells": [
    {
      "cell_type": "markdown",
      "metadata": {
        "id": "view-in-github",
        "colab_type": "text"
      },
      "source": [
        "<a href=\"https://colab.research.google.com/github/anandchauhan21/Desing_of_Data_Structures/blob/main/Module5/Lesson25.ipynb\" target=\"_parent\"><img src=\"https://colab.research.google.com/assets/colab-badge.svg\" alt=\"Open In Colab\"/></a>"
      ]
    },
    {
      "cell_type": "markdown",
      "source": [
        "# 🌳 Lesson 25: Binary Trees, Properties, Array/Linked Representation\n",
        "\n",
        "## 🎯 Objective:\n",
        "Understand **Binary Trees**, their **properties**, and different **representations**.\n",
        "\n",
        "---\n",
        "\n",
        "## 🌳 What is a Binary Tree?\n",
        "- A hierarchical structure where each node has **at most two children**:\n",
        "  - **Left Child**\n",
        "  - **Right Child**\n",
        "\n",
        "---\n",
        "\n",
        "## 🔑 Properties:\n",
        "1. Max nodes at level `l` = `2^l`\n",
        "2. Max nodes in tree of height `h` = `2^(h+1) - 1`\n",
        "3. Height of tree with `n` nodes ≈ `⌊log2(n)⌋`\n",
        "4. Types:\n",
        "   - Full Binary Tree\n",
        "   - Complete Binary Tree\n",
        "   - Perfect Binary Tree\n",
        "\n",
        "---\n",
        "\n",
        "## 🗂️ Representation:\n",
        "### 1. **Array Representation**\n",
        "- Root at index `0`\n",
        "- For node at index `i`:\n",
        "  - Left = `2i + 1`\n",
        "  - Right = `2i + 2`\n",
        "\n",
        "### 2. **Linked Representation**\n",
        "- Each node has:\n",
        "  - `data`\n",
        "  - `left` pointer\n",
        "  - `right` pointer\n"
      ],
      "metadata": {
        "id": "oMzKLiKXkZE5"
      }
    },
    {
      "cell_type": "code",
      "source": [
        "def print_ascii_tree():\n",
        "    print(\"\"\"\n",
        "            A\n",
        "           / \\\\\n",
        "          B   C\n",
        "         / \\\\ / \\\\\n",
        "        D  E F  G\n",
        "    \"\"\")\n",
        "print_ascii_tree()"
      ],
      "metadata": {
        "colab": {
          "base_uri": "https://localhost:8080/"
        },
        "id": "6oDsBjLlkjYo",
        "outputId": "bc57799e-0066-449f-a7df-be0f3c042fe5"
      },
      "execution_count": 13,
      "outputs": [
        {
          "output_type": "stream",
          "name": "stdout",
          "text": [
            "\n",
            "            A\n",
            "           / \\\n",
            "          B   C\n",
            "         / \\ / \\\n",
            "        D  E F  G\n",
            "    \n"
          ]
        }
      ]
    },
    {
      "cell_type": "code",
      "source": [
        "import matplotlib.pyplot as plt\n",
        "import networkx as nx\n",
        "\n",
        "edges = [(\"A\",\"B\"), (\"A\",\"C\"), (\"B\",\"D\"), (\"B\",\"E\"), (\"C\",\"F\"), (\"C\",\"G\")]\n",
        "\n",
        "G = nx.DiGraph()\n",
        "G.add_edges_from(edges)\n",
        "\n",
        "pos = {\n",
        "    \"A\": (0, 3),\n",
        "    \"B\": (-1, 2),\n",
        "    \"C\": (1, 2),\n",
        "    \"D\": (-1.5, 1),\n",
        "    \"E\": (-0.5, 1),\n",
        "    \"F\": (0.5, 1),\n",
        "    \"G\": (1.5, 1)\n",
        "}\n",
        "\n",
        "plt.figure(figsize=(6,5))\n",
        "nx.draw(G, pos, with_labels=True, arrows=False,\n",
        "        node_size=2000, node_color=\"lightgreen\", font_size=14, font_weight=\"bold\")\n",
        "plt.title(\"🌳 Example Binary Tree\", fontsize=16)\n",
        "plt.show()\n"
      ],
      "metadata": {
        "id": "BIo4fSFFkqqX"
      },
      "execution_count": null,
      "outputs": []
    },
    {
      "cell_type": "markdown",
      "source": [
        "## python"
      ],
      "metadata": {
        "id": "zp5W5yU2m4Zy"
      }
    },
    {
      "cell_type": "code",
      "source": [
        "# 1. Array Representation\n",
        "class ArrayBinaryTree:\n",
        "    def __init__(self, size):\n",
        "        self.tree = [None] * size\n",
        "\n",
        "    def insert(self, index, value):\n",
        "        if index < len(self.tree):\n",
        "            self.tree[index] = value\n",
        "\n",
        "    def display(self):\n",
        "        print(\"Array Representation:\", self.tree)\n",
        "\n",
        "# 2. Linked Representation\n",
        "class Node:\n",
        "    def __init__(self, key):\n",
        "        self.key = key\n",
        "        self.left = None\n",
        "        self.right = None\n",
        "\n",
        "# Traversals\n",
        "def inorder(root):\n",
        "    if root:\n",
        "        inorder(root.left)\n",
        "        print(root.key, end=\" \")\n",
        "        inorder(root.right)\n",
        "\n",
        "def preorder(root):\n",
        "    if root:\n",
        "        print(root.key, end=\" \")\n",
        "        preorder(root.left)\n",
        "        preorder(root.right)\n",
        "\n",
        "def postorder(root):\n",
        "    if root:\n",
        "        postorder(root.left)\n",
        "        postorder(root.right)\n",
        "        print(root.key, end=\" \")\n",
        "\n",
        "# Test\n",
        "arr_tree = ArrayBinaryTree(7)\n",
        "for i, val in enumerate([\"A\",\"B\",\"C\",\"D\",\"E\",\"F\",\"G\"]):\n",
        "    arr_tree.insert(i, val)\n",
        "arr_tree.display()\n",
        "\n",
        "root = Node(\"A\")\n",
        "root.left = Node(\"B\")\n",
        "root.right = Node(\"C\")\n",
        "root.left.left = Node(\"D\")\n",
        "root.left.right = Node(\"E\")\n",
        "root.right.left = Node(\"F\")\n",
        "root.right.right = Node(\"G\")\n",
        "\n",
        "print(\"Inorder Traversal:\", end=\" \"); inorder(root); print()\n",
        "print(\"Preorder Traversal:\", end=\" \"); preorder(root); print()\n",
        "print(\"Postorder Traversal:\", end=\" \"); postorder(root); print()\n"
      ],
      "metadata": {
        "id": "oiTHzDatlCjx"
      },
      "execution_count": null,
      "outputs": []
    },
    {
      "cell_type": "markdown",
      "source": [
        "## C"
      ],
      "metadata": {
        "id": "GGLsbgPKmgam"
      }
    },
    {
      "cell_type": "code",
      "source": [
        "c_code = \"\"\"\n",
        "#include <stdio.h>\n",
        "#include <stdlib.h>\n",
        "\n",
        "struct Node {\n",
        "    char data;\n",
        "    struct Node* left;\n",
        "    struct Node* right;\n",
        "};\n",
        "\n",
        "struct Node* newNode(char data) {\n",
        "    struct Node* node = (struct Node*)malloc(sizeof(struct Node));\n",
        "    node->data = data;\n",
        "    node->left = node->right = NULL;\n",
        "    return node;\n",
        "}\n",
        "\n",
        "void inorder(struct Node* root) {\n",
        "    if (root) {\n",
        "        inorder(root->left);\n",
        "        printf(\"%c \", root->data);\n",
        "        inorder(root->right);\n",
        "    }\n",
        "}\n",
        "\n",
        "void preorder(struct Node* root) {\n",
        "    if (root) {\n",
        "        printf(\"%c \", root->data);\n",
        "        preorder(root->left);\n",
        "        preorder(root->right);\n",
        "    }\n",
        "}\n",
        "\n",
        "void postorder(struct Node* root) {\n",
        "    if (root) {\n",
        "        postorder(root->left);\n",
        "        postorder(root->right);\n",
        "        printf(\"%c \", root->data);\n",
        "    }\n",
        "}\n",
        "\n",
        "int main() {\n",
        "    struct Node* root = newNode('A');\n",
        "    root->left = newNode('B');\n",
        "    root->right = newNode('C');\n",
        "    root->left->left = newNode('D');\n",
        "    root->left->right = newNode('E');\n",
        "    root->right->left = newNode('F');\n",
        "    root->right->right = newNode('G');\n",
        "\n",
        "    printf(\"Inorder: \"); inorder(root); printf(\"\\\\n\");\n",
        "    printf(\"Preorder: \"); preorder(root); printf(\"\\\\n\");\n",
        "    printf(\"Postorder: \"); postorder(root); printf(\"\\\\n\");\n",
        "\n",
        "    return 0;\n",
        "}\n",
        "\"\"\"\n",
        "with open(\"lesson25.c\", \"w\") as f: f.write(c_code)\n",
        "!gcc lesson25.c -o lesson25_c && ./lesson25_c\n"
      ],
      "metadata": {
        "id": "FzewFJX6lKc8"
      },
      "execution_count": null,
      "outputs": []
    },
    {
      "cell_type": "markdown",
      "source": [
        "## C++"
      ],
      "metadata": {
        "id": "XaJ8QnEemc5F"
      }
    },
    {
      "cell_type": "code",
      "source": [
        "cpp_code = \"\"\"\n",
        "#include <iostream>\n",
        "using namespace std;\n",
        "\n",
        "struct Node {\n",
        "    char data;\n",
        "    Node* left;\n",
        "    Node* right;\n",
        "    Node(char val) { data = val; left = right = NULL; }\n",
        "};\n",
        "\n",
        "void inorder(Node* root) {\n",
        "    if(root){ inorder(root->left); cout<<root->data<<\" \"; inorder(root->right); }\n",
        "}\n",
        "void preorder(Node* root) {\n",
        "    if(root){ cout<<root->data<<\" \"; preorder(root->left); preorder(root->right); }\n",
        "}\n",
        "void postorder(Node* root) {\n",
        "    if(root){ postorder(root->left); postorder(root->right); cout<<root->data<<\" \"; }\n",
        "}\n",
        "\n",
        "int main() {\n",
        "    Node* root = new Node('A');\n",
        "    root->left = new Node('B');\n",
        "    root->right = new Node('C');\n",
        "    root->left->left = new Node('D');\n",
        "    root->left->right = new Node('E');\n",
        "    root->right->left = new Node('F');\n",
        "    root->right->right = new Node('G');\n",
        "\n",
        "    cout << \"Inorder: \"; inorder(root); cout << endl;\n",
        "    cout << \"Preorder: \"; preorder(root); cout << endl;\n",
        "    cout << \"Postorder: \"; postorder(root); cout << endl;\n",
        "\n",
        "    return 0;\n",
        "}\n",
        "\"\"\"\n",
        "with open(\"lesson25.cpp\", \"w\") as f: f.write(cpp_code)\n",
        "!g++ lesson25.cpp -o lesson25_cpp && ./lesson25_cpp\n"
      ],
      "metadata": {
        "id": "OzE-5iyjlMGb"
      },
      "execution_count": null,
      "outputs": []
    },
    {
      "cell_type": "markdown",
      "source": [
        "## JAVA"
      ],
      "metadata": {
        "id": "NdkhMQGYmZ43"
      }
    },
    {
      "cell_type": "code",
      "source": [
        "java_code = \"\"\"\n",
        "class Node {\n",
        "    char data;\n",
        "    Node left, right;\n",
        "    Node(char val){ data = val; left = right = null; }\n",
        "}\n",
        "\n",
        "public class Lesson25 {\n",
        "    static void inorder(Node root){\n",
        "        if(root!=null){ inorder(root.left); System.out.print(root.data+\" \"); inorder(root.right); }\n",
        "    }\n",
        "    static void preorder(Node root){\n",
        "        if(root!=null){ System.out.print(root.data+\" \"); preorder(root.left); preorder(root.right); }\n",
        "    }\n",
        "    static void postorder(Node root){\n",
        "        if(root!=null){ postorder(root.left); postorder(root.right); System.out.print(root.data+\" \"); }\n",
        "    }\n",
        "\n",
        "    public static void main(String[] args){\n",
        "        Node root = new Node('A');\n",
        "        root.left = new Node('B');\n",
        "        root.right = new Node('C');\n",
        "        root.left.left = new Node('D');\n",
        "        root.left.right = new Node('E');\n",
        "        root.right.left = new Node('F');\n",
        "        root.right.right = new Node('G');\n",
        "\n",
        "        System.out.print(\"Inorder: \"); inorder(root); System.out.println();\n",
        "        System.out.print(\"Preorder: \"); preorder(root); System.out.println();\n",
        "        System.out.print(\"Postorder: \"); postorder(root); System.out.println();\n",
        "    }\n",
        "}\n",
        "\"\"\"\n",
        "with open(\"Lesson25.java\", \"w\") as f: f.write(java_code)\n",
        "!javac Lesson25.java\n",
        "!java Lesson25\n"
      ],
      "metadata": {
        "id": "HZgWaPTRlQBz"
      },
      "execution_count": null,
      "outputs": []
    },
    {
      "cell_type": "markdown",
      "source": [
        "---\n",
        "\n",
        "## 📌 Summary – Lesson 25: Binary Trees\n",
        "\n",
        "- Binary Trees: each node has at most 2 children.\n",
        "- Properties:\n",
        "  - Max nodes at level l = 2^l\n",
        "  - Max nodes in height h = 2^(h+1) - 1\n",
        "- Representations:\n",
        "  - Array (simple but wastes space)\n",
        "  - Linked (flexible, commonly used)\n",
        "- Traversals:\n",
        "  - **Inorder**: Left → Root → Right\n",
        "  - **Preorder**: Root → Left → Right\n",
        "  - **Postorder**: Left → Right → Root\n",
        "\n",
        "---\n",
        "\n",
        "## ✅ Viva Questions:\n",
        "1. What is the difference between **Full** and **Complete** binary tree?  \n",
        "2. Which representation (array or linked) is more space-efficient? Why?  \n",
        "3. What is the inorder traversal of the tree shown in the diagram?  \n",
        "4. How many nodes are possible in a tree of height `h`?  \n",
        "5. Which traversal is used to get a **sorted order** from a BST?\n",
        "\n",
        "---\n"
      ],
      "metadata": {
        "id": "SLFVkKzfmUs9"
      }
    }
  ]
}