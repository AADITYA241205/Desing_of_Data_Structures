{
  "nbformat": 4,
  "nbformat_minor": 0,
  "metadata": {
    "colab": {
      "provenance": [],
      "name": "Lesson26.ipynb",
      "include_colab_link": true
    },
    "kernelspec": {
      "name": "python3",
      "display_name": "Python 3"
    },
    "language_info": {
      "name": "python"
    }
  },
  "cells": [
    {
      "cell_type": "markdown",
      "metadata": {
        "id": "view-in-github",
        "colab_type": "text"
      },
      "source": [
        "<a href=\"https://colab.research.google.com/github/anandchauhan21/Desing_of_Data_Structures/blob/main/Module5/Lesson26.ipynb\" target=\"_parent\"><img src=\"https://colab.research.google.com/assets/colab-badge.svg\" alt=\"Open In Colab\"/></a>"
      ]
    },
    {
      "cell_type": "markdown",
      "source": [
        "# 🌳 Lesson 26: Tree Traversals – Inorder, Preorder, Postorder\n",
        "\n",
        "## 🎯 Objective:\n",
        "Learn **three depth-first traversals** of binary trees:\n",
        "1. **Inorder (L → Root → R)**\n",
        "2. **Preorder (Root → L → R)**\n",
        "3. **Postorder (L → R → Root)**\n",
        "\n",
        "---\n",
        "\n"
      ],
      "metadata": {
        "id": "s_WUHDkToYGU"
      }
    },
    {
      "cell_type": "code",
      "source": [
        "def ascii_traversals():\n",
        "    print(\"🌳 Example Tree:\")\n",
        "    print(\"\"\"\n",
        "            A\n",
        "           / \\\\\n",
        "          B   C\n",
        "         / \\\\ / \\\\\n",
        "        D  E F  G\n",
        "    \"\"\")\n",
        "    print(\"Inorder   (L-R): D B E A F C G\")\n",
        "    print(\"Preorder  (Root-L-R): A B D E C F G\")\n",
        "    print(\"Postorder (L-R-Root): D E B F G C A\")\n",
        "\n",
        "ascii_traversals()\n"
      ],
      "metadata": {
        "id": "R7CUmIVLocC9",
        "outputId": "41ddd3ea-df91-4d3e-dcb4-aff452c8cda7",
        "colab": {
          "base_uri": "https://localhost:8080/"
        }
      },
      "execution_count": 15,
      "outputs": [
        {
          "output_type": "stream",
          "name": "stdout",
          "text": [
            "🌳 Example Tree:\n",
            "\n",
            "            A\n",
            "           / \\\n",
            "          B   C\n",
            "         / \\ / \\\n",
            "        D  E F  G\n",
            "    \n",
            "Inorder   (L-R): D B E A F C G\n",
            "Preorder  (Root-L-R): A B D E C F G\n",
            "Postorder (L-R-Root): D E B F G C A\n"
          ]
        }
      ]
    },
    {
      "cell_type": "markdown",
      "source": [
        "## Python"
      ],
      "metadata": {
        "id": "iE04ayaNpKPw"
      }
    },
    {
      "cell_type": "code",
      "source": [
        "class Node:\n",
        "    def __init__(self, key):\n",
        "        self.key = key\n",
        "        self.left = None\n",
        "        self.right = None\n",
        "\n",
        "# Traversals\n",
        "def inorder(root):\n",
        "    if root:\n",
        "        inorder(root.left)\n",
        "        print(root.key, end=\" \")\n",
        "        inorder(root.right)\n",
        "\n",
        "def preorder(root):\n",
        "    if root:\n",
        "        print(root.key, end=\" \")\n",
        "        preorder(root.left)\n",
        "        preorder(root.right)\n",
        "\n",
        "def postorder(root):\n",
        "    if root:\n",
        "        postorder(root.left)\n",
        "        postorder(root.right)\n",
        "        print(root.key, end=\" \")\n",
        "\n",
        "# 🔍 Build tree\n",
        "root = Node(\"A\")\n",
        "root.left = Node(\"B\")\n",
        "root.right = Node(\"C\")\n",
        "root.left.left = Node(\"D\")\n",
        "root.left.right = Node(\"E\")\n",
        "root.right.left = Node(\"F\")\n",
        "root.right.right = Node(\"G\")\n",
        "\n",
        "print(\"Inorder Traversal: \", end=\"\"); inorder(root); print()\n",
        "print(\"Preorder Traversal: \", end=\"\"); preorder(root); print()\n",
        "print(\"Postorder Traversal: \", end=\"\"); postorder(root); print()\n"
      ],
      "metadata": {
        "id": "pMr_rinjozqf"
      },
      "execution_count": null,
      "outputs": []
    },
    {
      "cell_type": "markdown",
      "source": [
        "## C\n"
      ],
      "metadata": {
        "id": "3JOz4kNNo1f6"
      }
    },
    {
      "cell_type": "code",
      "source": [
        "c_code = \"\"\"\n",
        "#include <stdio.h>\n",
        "#include <stdlib.h>\n",
        "\n",
        "struct Node {\n",
        "    char data;\n",
        "    struct Node* left;\n",
        "    struct Node* right;\n",
        "};\n",
        "\n",
        "struct Node* newNode(char data) {\n",
        "    struct Node* node = (struct Node*)malloc(sizeof(struct Node));\n",
        "    node->data = data;\n",
        "    node->left = node->right = NULL;\n",
        "    return node;\n",
        "}\n",
        "\n",
        "void inorder(struct Node* root) {\n",
        "    if (root) {\n",
        "        inorder(root->left);\n",
        "        printf(\"%c \", root->data);\n",
        "        inorder(root->right);\n",
        "    }\n",
        "}\n",
        "void preorder(struct Node* root) {\n",
        "    if (root) {\n",
        "        printf(\"%c \", root->data);\n",
        "        preorder(root->left);\n",
        "        preorder(root->right);\n",
        "    }\n",
        "}\n",
        "void postorder(struct Node* root) {\n",
        "    if (root) {\n",
        "        postorder(root->left);\n",
        "        postorder(root->right);\n",
        "        printf(\"%c \", root->data);\n",
        "    }\n",
        "}\n",
        "\n",
        "int main() {\n",
        "    struct Node* root = newNode('A');\n",
        "    root->left = newNode('B');\n",
        "    root->right = newNode('C');\n",
        "    root->left->left = newNode('D');\n",
        "    root->left->right = newNode('E');\n",
        "    root->right->left = newNode('F');\n",
        "    root->right->right = newNode('G');\n",
        "\n",
        "    printf(\"Inorder: \"); inorder(root); printf(\"\\\\n\");\n",
        "    printf(\"Preorder: \"); preorder(root); printf(\"\\\\n\");\n",
        "    printf(\"Postorder: \"); postorder(root); printf(\"\\\\n\");\n",
        "\n",
        "    return 0;\n",
        "}\n",
        "\"\"\"\n",
        "with open(\"lesson26.c\", \"w\") as f: f.write(c_code)\n",
        "!gcc lesson26.c -o lesson26_c && ./lesson26_c\n"
      ],
      "metadata": {
        "id": "lqhtY7_qo3We"
      },
      "execution_count": null,
      "outputs": []
    },
    {
      "cell_type": "markdown",
      "source": [
        "## C++"
      ],
      "metadata": {
        "id": "S8DMMGhno44O"
      }
    },
    {
      "cell_type": "code",
      "source": [
        "cpp_code = \"\"\"\n",
        "#include <iostream>\n",
        "using namespace std;\n",
        "\n",
        "struct Node {\n",
        "    char data;\n",
        "    Node* left;\n",
        "    Node* right;\n",
        "    Node(char val){ data = val; left = right = NULL; }\n",
        "};\n",
        "\n",
        "void inorder(Node* root){\n",
        "    if(root){ inorder(root->left); cout<<root->data<<\" \"; inorder(root->right); }\n",
        "}\n",
        "void preorder(Node* root){\n",
        "    if(root){ cout<<root->data<<\" \"; preorder(root->left); preorder(root->right); }\n",
        "}\n",
        "void postorder(Node* root){\n",
        "    if(root){ postorder(root->left); postorder(root->right); cout<<root->data<<\" \"; }\n",
        "}\n",
        "\n",
        "int main(){\n",
        "    Node* root = new Node('A');\n",
        "    root->left = new Node('B');\n",
        "    root->right = new Node('C');\n",
        "    root->left->left = new Node('D');\n",
        "    root->left->right = new Node('E');\n",
        "    root->right->left = new Node('F');\n",
        "    root->right->right = new Node('G');\n",
        "\n",
        "    cout<<\"Inorder: \"; inorder(root); cout<<endl;\n",
        "    cout<<\"Preorder: \"; preorder(root); cout<<endl;\n",
        "    cout<<\"Postorder: \"; postorder(root); cout<<endl;\n",
        "\n",
        "    return 0;\n",
        "}\n",
        "\"\"\"\n",
        "with open(\"lesson26.cpp\", \"w\") as f: f.write(cpp_code)\n",
        "!g++ lesson26.cpp -o lesson26_cpp && ./lesson26_cpp\n"
      ],
      "metadata": {
        "id": "Txqbad8wo9Of"
      },
      "execution_count": null,
      "outputs": []
    },
    {
      "cell_type": "markdown",
      "source": [
        "## JAVA"
      ],
      "metadata": {
        "id": "jLyGzFS_pAON"
      }
    },
    {
      "cell_type": "code",
      "source": [
        "java_code = \"\"\"\n",
        "class Node {\n",
        "    char data;\n",
        "    Node left, right;\n",
        "    Node(char val){ data = val; left = right = null; }\n",
        "}\n",
        "\n",
        "public class Lesson26 {\n",
        "    static void inorder(Node root){\n",
        "        if(root!=null){ inorder(root.left); System.out.print(root.data+\" \"); inorder(root.right); }\n",
        "    }\n",
        "    static void preorder(Node root){\n",
        "        if(root!=null){ System.out.print(root.data+\" \"); preorder(root.left); preorder(root.right); }\n",
        "    }\n",
        "    static void postorder(Node root){\n",
        "        if(root!=null){ postorder(root.left); postorder(root.right); System.out.print(root.data+\" \"); }\n",
        "    }\n",
        "\n",
        "    public static void main(String[] args){\n",
        "        Node root = new Node('A');\n",
        "        root.left = new Node('B');\n",
        "        root.right = new Node('C');\n",
        "        root.left.left = new Node('D');\n",
        "        root.left.right = new Node('E');\n",
        "        root.right.left = new Node('F');\n",
        "        root.right.right = new Node('G');\n",
        "\n",
        "        System.out.print(\"Inorder: \"); inorder(root); System.out.println();\n",
        "        System.out.print(\"Preorder: \"); preorder(root); System.out.println();\n",
        "        System.out.print(\"Postorder: \"); postorder(root); System.out.println();\n",
        "    }\n",
        "}\n",
        "\"\"\"\n",
        "with open(\"Lesson26.java\", \"w\") as f: f.write(java_code)\n",
        "!javac Lesson26.java\n",
        "!java Lesson26\n"
      ],
      "metadata": {
        "id": "uhj5SZE2pCRM"
      },
      "execution_count": null,
      "outputs": []
    },
    {
      "cell_type": "markdown",
      "source": [
        "---\n",
        "\n",
        "## 📌 Summary – Lesson 26: Traversals\n",
        "- **Inorder (L-R):** Visits nodes in ascending order (for BSTs).  \n",
        "- **Preorder (Root-L-R):** Useful for tree copy & prefix expressions.  \n",
        "- **Postorder (L-R-Root):** Useful for tree deletion & postfix expressions.  \n",
        "\n",
        "---\n",
        "\n",
        "## ✅ Viva Questions:\n",
        "1. Which traversal gives sorted order in a BST?  \n",
        "2. Which traversal is useful for deleting a tree?  \n",
        "3. What is the order of nodes visited in **Preorder** for the given tree?  \n",
        "4. Can we implement traversals iteratively (without recursion)? How?  \n",
        "5. Compare **DFS (traversals)** vs **BFS (level-order)**.\n",
        "\n",
        "---\n"
      ],
      "metadata": {
        "id": "iWX535DHpF7m"
      }
    }
  ]
}